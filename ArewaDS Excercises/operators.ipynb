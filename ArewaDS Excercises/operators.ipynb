{
 "cells": [
  {
   "cell_type": "markdown",
   "metadata": {},
   "source": [
    "# This are exercises on opearators"
   ]
  },
  {
   "cell_type": "code",
   "execution_count": 2,
   "metadata": {},
   "outputs": [
    {
     "name": "stdout",
     "output_type": "stream",
     "text": [
      "Area of the triangle: 100.0\n"
     ]
    }
   ],
   "source": [
    "#Declare your age as integer variable\n",
    "my_age = 18\n",
    "#Declare your height as a float variable\n",
    "my_height = 7.00\n",
    "#Declare a variable that store a complex number\n",
    "3complex_number = 2 + 3j\n",
    "#Write a script that prompts the user to enter base and height of the triangle and calculate an area of this triangle (area = 0.5 x b x h).\n",
    "base_of_triangle = input(\"Enter the base of the traigle:\")\n",
    "height_of_triagle = input(\"Enter the height of the triangle\")\n",
    "area_of_triangle = 0.5 * float(base_of_triangle) * float(height_of_triagle)\n",
    "print(\"Area of the triangle:\", area_of_triangle)"
   ]
  },
  {
   "cell_type": "code",
   "execution_count": 7,
   "metadata": {},
   "outputs": [
    {
     "name": "stdout",
     "output_type": "stream",
     "text": [
      "The perimeter: 12\n"
     ]
    }
   ],
   "source": [
    "# Write a script that prompsts the user to enter side a, side b, and side c of the triangle. Calculate the perimeter of the triangle (perimeter = a + b + c).\n",
    "side_a = input(\"Enter side a of the triangle:\")\n",
    "side_b = input(\"Enter side b of the triangle:\")\n",
    "side_c = input(\"Enter side c of the triangle:\")\n",
    "perimeter_of_triangle = int(side_a) + int(side_b) + int(side_c)\n",
    "print(\"The perimeter:\", perimeter_of_triangle)"
   ]
  },
  {
   "cell_type": "code",
   "execution_count": null,
   "metadata": {},
   "outputs": [],
   "source": []
  },
  {
   "cell_type": "code",
   "execution_count": 19,
   "metadata": {},
   "outputs": [
    {
     "name": "stdout",
     "output_type": "stream",
     "text": [
      "The y-intercept is  -2 and the x-intercept is  1.0\n",
      "Slope is 2.0\n",
      "True\n"
     ]
    }
   ],
   "source": [
    "\n",
    " #Get length and width of a rectangle using prompt. Calculate its area (area = length x width) and perimeter (perimeter = 2 x (length + width))\n",
    "#length_of_rectangle = int(input(\"Enter length:\"))\n",
    "#width_of_rectangle = int(input(\"Enter width:\"))\n",
    "#print(\"Area of Rectangle is \", length_of_rectangle * width_of_rectangle)\n",
    "#Get radius of a circle using prompt. Calculate the area (area = pi x r x r) and circumference (c = 2 x pi x r) where pi = 3.14.\n",
    "#radius = float(input(\"Enter radius:\"))\n",
    "#pi = 3.14\n",
    "#area = pi * radius * radius\n",
    "#print(area)\n",
    "#circumference = 2 * pi * radius \n",
    "#print(circumference)\n",
    "#Calculate the slope, x-intercept and y-intercept of y = 2x -2\n",
    "slope_1 = 2\n",
    "y_intercept = 2 * 0 -2 # when x is 0\n",
    "x_intercept = -(-2) / 2 # when y is 0\n",
    "print(\"The y-intercept is \", y_intercept, \"and the x-intercept is \", x_intercept)\n",
    "#Slope is (m = y2-y1/x2-x1). Find the slope and Euclidean distance between point (2, 2) and point (6,10)\n",
    "x1, y1 = 2, 2\n",
    "x2, y2 = 6, 10\n",
    "Slope_2 = (y2-y1) / (x2-x1)\n",
    "print(\"Slope is\",Slope_2 ) \n",
    "#Compare the slopes in tasks 8 and 9.\n",
    "print(slope_1 == Slope_2)\n",
    "#Calculate the value of y (y = x^2 + 6x + 9). Try to use different x values and figure out at what x value y is going to be 0.\n",
    " \n",
    "    #Find the length of 'python' and 'dragon' and make a falsy comparison statement.\n",
    "    #Use and operator to check if 'on' is found in both 'python' and 'dragon'\n",
    "    #I hope this course is not full of jargon. Use in operator to check if jargon is in the sentence.\n",
    "    #There is no 'on' in both dragon and python\n",
    "    #Find the length of the text python and convert the value to float and convert it to string\n",
    "    #Even numbers are divisible by 2 and the remainder is zero. How do you check if a number is even or not using python?\n",
    "    #Check if the floor division of 7 by 3 is equal to the int converted value of 2.7.\n",
    "    #Check if type of '10' is equal to type of 10\n",
    "    #Check if int('9.8') is equal to 10\n",
    "    #Writ a script that prompts the user to enter hours and rate per hour. Calculate pay of the person?\n"
   ]
  }
 ],
 "metadata": {
  "kernelspec": {
   "display_name": "Python 3",
   "language": "python",
   "name": "python3"
  },
  "language_info": {
   "codemirror_mode": {
    "name": "ipython",
    "version": 3
   },
   "file_extension": ".py",
   "mimetype": "text/x-python",
   "name": "python",
   "nbconvert_exporter": "python",
   "pygments_lexer": "ipython3",
   "version": "3.10.12"
  }
 },
 "nbformat": 4,
 "nbformat_minor": 2
}
