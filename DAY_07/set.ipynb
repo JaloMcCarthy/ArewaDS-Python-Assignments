{
 "cells": [
  {
   "cell_type": "markdown",
   "metadata": {},
   "source": [
    "# This are exercises on set"
   ]
  },
  {
   "cell_type": "code",
   "execution_count": 19,
   "metadata": {},
   "outputs": [
    {
     "name": "stdout",
     "output_type": "stream",
     "text": [
      "{'IBM', 'Microsoft', 'Google', 'Facebook', 'Oracle', 'Apple', 'Amazon'}\n"
     ]
    }
   ],
   "source": [
    "# sets\n",
    "it_companies = {'Facebook', 'Google', 'Microsoft', 'Apple', 'IBM', 'Oracle', 'Amazon'}\n",
    "print(it_companies)\n"
   ]
  },
  {
   "cell_type": "markdown",
   "metadata": {},
   "source": [
    "## Sets Exercises: Level 1"
   ]
  },
  {
   "cell_type": "code",
   "execution_count": 8,
   "metadata": {},
   "outputs": [
    {
     "name": "stdout",
     "output_type": "stream",
     "text": [
      "10\n",
      "{'IBM', 'Tecno', 'Cisco', 'Google', 'Apple', 'Huawei', 'Oracle', 'Amazon', 'Microsoft', 'twitter'}\n",
      "{'IBM', 'Tecno', 'Cisco', 'Google', 'Apple', 'Huawei', 'Oracle', 'Amazon', 'Microsoft', 'twitter'}\n",
      "{'IBM', 'Tecno', 'Cisco', 'Google', 'Apple', 'Huawei', 'Oracle', 'Amazon', 'Microsoft', 'Facebook', 'twitter'}\n"
     ]
    }
   ],
   "source": [
    "#Find the length of the set it_companies\n",
    "print(len(it_companies))\n",
    "\n",
    "#Add 'Twitter' to it_companies\n",
    "it_companies.add('twitter')\n",
    "print(it_companies)\n",
    "\n",
    "#Insert multiple IT companies at once to the set it_companies\n",
    "it_companies.update(['Huawei', 'Tecno', 'Cisco'])\n",
    "print(it_companies)\n",
    "\n",
    "#What is the difference between remove and discard\n",
    "#it_companies.discard('Samsung') # The discard method does not prompt an error if the item is not in the list\n",
    "\n",
    "\n",
    "\n"
   ]
  },
  {
   "cell_type": "code",
   "execution_count": 9,
   "metadata": {},
   "outputs": [
    {
     "name": "stdout",
     "output_type": "stream",
     "text": [
      "{'IBM', 'Tecno', 'Cisco', 'Google', 'Apple', 'Huawei', 'Oracle', 'Amazon', 'Microsoft', 'twitter'}\n"
     ]
    }
   ],
   "source": [
    "#Remove one of the companies from the set it_companies\n",
    "it_companies.remove('Facebook')\n",
    "print(it_companies)\n"
   ]
  },
  {
   "cell_type": "code",
   "execution_count": 10,
   "metadata": {},
   "outputs": [],
   "source": [
    "#What is the difference between remove and discard\n",
    "it_companies.discard('Samsung') # The discard method does not prompt an error if the item is not in the list\n"
   ]
  },
  {
   "cell_type": "code",
   "execution_count": 11,
   "metadata": {},
   "outputs": [
    {
     "ename": "KeyError",
     "evalue": "'Samsung'",
     "output_type": "error",
     "traceback": [
      "\u001b[0;31m---------------------------------------------------------------------------\u001b[0m",
      "\u001b[0;31mKeyError\u001b[0m                                  Traceback (most recent call last)",
      "Cell \u001b[0;32mIn[11], line 2\u001b[0m\n\u001b[1;32m      1\u001b[0m \u001b[38;5;66;03m#What is the difference between remove and discard\u001b[39;00m\n\u001b[0;32m----> 2\u001b[0m \u001b[43mit_companies\u001b[49m\u001b[38;5;241;43m.\u001b[39;49m\u001b[43mremove\u001b[49m\u001b[43m(\u001b[49m\u001b[38;5;124;43m'\u001b[39;49m\u001b[38;5;124;43mSamsung\u001b[39;49m\u001b[38;5;124;43m'\u001b[39;49m\u001b[43m)\u001b[49m \u001b[38;5;66;03m# The remove method does prompt an error if the item is not in the list\u001b[39;00m\n",
      "\u001b[0;31mKeyError\u001b[0m: 'Samsung'"
     ]
    }
   ],
   "source": [
    "#What is the difference between remove and discard\n",
    "it_companies.remove('Samsung') # The remove method does prompt an error if the item is not in the list\n"
   ]
  },
  {
   "cell_type": "markdown",
   "metadata": {},
   "source": [
    "## Sets Exercises: Level 2"
   ]
  },
  {
   "cell_type": "code",
   "execution_count": 20,
   "metadata": {},
   "outputs": [
    {
     "name": "stdout",
     "output_type": "stream",
     "text": [
      "{19, 20, 22, 24, 25, 26}\n",
      "{19, 20, 22, 24, 25, 26, 27, 28}\n",
      "[22, 19, 24, 25, 26, 24, 25, 24]\n"
     ]
    }
   ],
   "source": [
    "A = {19, 22, 24, 20, 25, 26}\n",
    "print(A)\n",
    "\n",
    "B = {19, 22, 20, 25, 26, 24, 28, 27}\n",
    "print(B)\n",
    "\n",
    "age = [22, 19, 24, 25, 26, 24, 25, 24]\n",
    "print(age)"
   ]
  },
  {
   "cell_type": "code",
   "execution_count": 21,
   "metadata": {},
   "outputs": [
    {
     "name": "stdout",
     "output_type": "stream",
     "text": [
      "{19, 20, 22, 24, 25, 26, 27, 28}\n"
     ]
    }
   ],
   "source": [
    "# Join A and B\n",
    "print(A.union(B))"
   ]
  },
  {
   "cell_type": "code",
   "execution_count": 22,
   "metadata": {},
   "outputs": [
    {
     "name": "stdout",
     "output_type": "stream",
     "text": [
      "{19, 20, 22, 24, 25, 26}\n"
     ]
    }
   ],
   "source": [
    "# Find A intersection B\n",
    "print(A.intersection(B))"
   ]
  },
  {
   "cell_type": "code",
   "execution_count": 23,
   "metadata": {},
   "outputs": [
    {
     "name": "stdout",
     "output_type": "stream",
     "text": [
      "True\n"
     ]
    }
   ],
   "source": [
    "# Is A subset of B\n",
    "print(A.issubset(B))"
   ]
  },
  {
   "cell_type": "code",
   "execution_count": 24,
   "metadata": {},
   "outputs": [
    {
     "name": "stdout",
     "output_type": "stream",
     "text": [
      "False\n"
     ]
    }
   ],
   "source": [
    "# Are A and B disjoint sets\n",
    "print(A.isdisjoint(B))"
   ]
  },
  {
   "cell_type": "code",
   "execution_count": 25,
   "metadata": {},
   "outputs": [
    {
     "name": "stdout",
     "output_type": "stream",
     "text": [
      "{19, 20, 22, 24, 25, 26, 27, 28}\n",
      "{19, 20, 22, 24, 25, 26, 27, 28}\n"
     ]
    }
   ],
   "source": [
    "# Join A with B and B with A\n",
    "print(A.union(B))\n",
    "print(B.union(A))"
   ]
  },
  {
   "cell_type": "code",
   "execution_count": 26,
   "metadata": {},
   "outputs": [
    {
     "name": "stdout",
     "output_type": "stream",
     "text": [
      "{27, 28}\n"
     ]
    }
   ],
   "source": [
    "# What is the symmetric difference between A and B\n",
    "print(A.symmetric_difference(B))"
   ]
  },
  {
   "cell_type": "code",
   "execution_count": 28,
   "metadata": {},
   "outputs": [
    {
     "ename": "NameError",
     "evalue": "name 'A' is not defined",
     "output_type": "error",
     "traceback": [
      "\u001b[0;31m---------------------------------------------------------------------------\u001b[0m",
      "\u001b[0;31mNameError\u001b[0m                                 Traceback (most recent call last)",
      "Cell \u001b[0;32mIn[28], line 2\u001b[0m\n\u001b[1;32m      1\u001b[0m \u001b[38;5;66;03m# Delete the sets completely\u001b[39;00m\n\u001b[0;32m----> 2\u001b[0m \u001b[38;5;28;01mdel\u001b[39;00m A\n\u001b[1;32m      3\u001b[0m \u001b[38;5;28;01mdel\u001b[39;00m B\n",
      "\u001b[0;31mNameError\u001b[0m: name 'A' is not defined"
     ]
    }
   ],
   "source": [
    "# Delete the sets completely\n",
    "del A\n",
    "del B\n"
   ]
  },
  {
   "cell_type": "markdown",
   "metadata": {},
   "source": [
    "## Sets Exercises: Level 3"
   ]
  },
  {
   "cell_type": "code",
   "execution_count": 30,
   "metadata": {},
   "outputs": [
    {
     "name": "stdout",
     "output_type": "stream",
     "text": [
      "{19, 22, 24, 25, 26}\n",
      "8\n",
      "5\n"
     ]
    }
   ],
   "source": [
    "# Convert the ages to a set and compare the length of the list and the set, which one is bigger?\n",
    "list_ages = set(age)\n",
    "print(list_ages)\n",
    "\n",
    "print(len(age))\n",
    "print(len(list_ages))"
   ]
  },
  {
   "cell_type": "markdown",
   "metadata": {},
   "source": [
    "Explain the difference between the following data types: string, list, tuple and set\n",
    "\n",
    "### String data type\n",
    "+ The string data is any data written in between single or double quatation.\n",
    "+ For example  \n",
    "  + +'Adam', \n",
    "  + \"54\", \n",
    "  + \"python is a general-purpose programming language\", \n",
    "  + 'I am 56 years old from Nigeria'\n",
    "+ a string data type have many methods that act on it such as title(), upper(), lower() e.t.c.\n",
    "\n",
    "\n",
    "### list data type\n",
    "+ A list is a collection of items that are ordered and modifiable.\n",
    "+ It also allows for duplicate items.\n",
    "+ One can create an empty list using the list function or by assigning a [] to a veriable. \n",
    "+ else create  list with an existing items/members\n",
    "+ Also a list can contain different kind of data/members such int, str, or even a list\n",
    "+ Examples:\n",
    "  + new_list = list()\n",
    "  + other_list = []\n",
    "  + another_list = ['Ha', 'Ja', 5, , [8, 6, 4]]\n",
    "+ List have various methods that act on it such as update(), split() append() e.t.c.\n",
    "\n",
    "\n",
    "### Tuple data type\n",
    "+ A tuple is also a collection of ordered but unmodiafiable members unlike list.\n",
    "+ Though tuple allows for duplicate members\n",
    "+ One can create an empty tuple using the tuple function or by assigning a () to a veriable. \n",
    "+ else create  tuple with an existing items/members\n",
    "+ Examples:\n",
    "  + new_tuple = tuple()\n",
    "  + other_tuple = ()\n",
    "  + another_tuple = ('Ha', 'Ja', 5, , 3.4)\n",
    "+ One can change a tuple to a list and vice vasa\n",
    "  \n",
    "\n",
    "### Set data Type \n",
    "+ A set is a group of unmodifiable, unordered and un-indexed members.\n",
    "+ A member or item can be added to set \n",
    "+ likewise a set doesnt allow for duplicate members.\n",
    "+ One can create an empty set using the set function or by assigning a {} to a veriable. \n",
    "+ else create tuple with an existing items/members\n",
    "+ Examples:\n",
    "  + set = {}\n",
    "  + set_1 = {3, 5, 6, 2, {4,8, 9}}\n",
    "+ Just like set in mathematics, one can get the union, intersection, symmetric difference of sets.\n",
    "+ Using methods such as union(), intersection() e.t.c."
   ]
  },
  {
   "cell_type": "code",
   "execution_count": 33,
   "metadata": {},
   "outputs": [
    {
     "name": "stdout",
     "output_type": "stream",
     "text": [
      "I am a teacher and I love to inspire and teach people\n",
      "['I', 'am', 'a', 'teacher', 'and', 'I', 'love', 'to', 'inspire', 'and', 'teach', 'people']\n",
      "{'and', 'a', 'inspire', 'love', 'I', 'to', 'teach', 'am', 'people', 'teacher'}\n"
     ]
    }
   ],
   "source": [
    "# I am a teacher and I love to inspire and teach people. \n",
    "# How many unique words have been used in the sentence? \n",
    "# Use the split methods and set to get the unique words.\n",
    "sentence = 'I am a teacher and I love to inspire and teach people'\n",
    "print(sentence)\n",
    "\n",
    "individuals_words = sentence.split()\n",
    "print(individuals_words)\n",
    "\n",
    "unique_words = set(individuals_words)\n",
    "print(unique_words)"
   ]
  }
 ],
 "metadata": {
  "kernelspec": {
   "display_name": "Python 3",
   "language": "python",
   "name": "python3"
  },
  "language_info": {
   "codemirror_mode": {
    "name": "ipython",
    "version": 3
   },
   "file_extension": ".py",
   "mimetype": "text/x-python",
   "name": "python",
   "nbconvert_exporter": "python",
   "pygments_lexer": "ipython3",
   "version": "3.10.12"
  }
 },
 "nbformat": 4,
 "nbformat_minor": 2
}
