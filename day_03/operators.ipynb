{
 "cells": [
  {
   "cell_type": "markdown",
   "metadata": {},
   "source": [
    "# This are exercises on opearators"
   ]
  },
  {
   "cell_type": "code",
   "execution_count": 2,
   "metadata": {},
   "outputs": [
    {
     "name": "stdout",
     "output_type": "stream",
     "text": [
      "Area of the triangle: 100.0\n"
     ]
    }
   ],
   "source": [
    "#Declare your age as integer variable\n",
    "my_age = 18\n",
    "#Declare your height as a float variable\n",
    "my_height = 7.00\n",
    "#Declare a variable that store a complex number\n",
    "complex_number = 2 + 3j\n",
    "#Write a script that prompts the user to enter base and height of the triangle and calculate an area of this triangle (area = 0.5 x b x h).\n",
    "base_of_triangle = input(\"Enter the base of the traigle:\")\n",
    "height_of_triagle = input(\"Enter the height of the triangle\")\n",
    "area_of_triangle = 0.5 * float(base_of_triangle) * float(height_of_triagle)\n",
    "print(\"Area of the triangle:\", area_of_triangle)"
   ]
  },
  {
   "cell_type": "code",
   "execution_count": 7,
   "metadata": {},
   "outputs": [
    {
     "name": "stdout",
     "output_type": "stream",
     "text": [
      "The perimeter: 12\n"
     ]
    }
   ],
   "source": [
    "# Write a script that prompsts the user to enter side a, side b, and side c of the triangle. Calculate the perimeter of the triangle (perimeter = a + b + c).\n",
    "side_a = input(\"Enter side a of the triangle:\")\n",
    "side_b = input(\"Enter side b of the triangle:\")\n",
    "side_c = input(\"Enter side c of the triangle:\")\n",
    "perimeter_of_triangle = int(side_a) + int(side_b) + int(side_c)\n",
    "print(\"The perimeter:\", perimeter_of_triangle)"
   ]
  },
  {
   "cell_type": "code",
   "execution_count": 1,
   "metadata": {},
   "outputs": [
    {
     "name": "stdout",
     "output_type": "stream",
     "text": [
      "Area of Rectangle is  15\n"
     ]
    }
   ],
   "source": [
    "#Get length and width of a rectangle using prompt. Calculate its area (area = length x width) and perimeter (perimeter = 2 x (length + width))\n",
    "length_of_rectangle = int(input(\"Enter length:\"))\n",
    "width_of_rectangle = int(input(\"Enter width:\"))\n",
    "print(\"Area of Rectangle is \", length_of_rectangle * width_of_rectangle)"
   ]
  },
  {
   "cell_type": "code",
   "execution_count": 2,
   "metadata": {},
   "outputs": [
    {
     "name": "stdout",
     "output_type": "stream",
     "text": [
      "153.86\n",
      "43.96\n"
     ]
    }
   ],
   "source": [
    "#Get radius of a circle using prompt. Calculate the area (area = pi x r x r) and circumference (c = 2 x pi x r) where pi = 3.14.\n",
    "radius = float(input(\"Enter radius:\"))\n",
    "pi = 3.14\n",
    "area = pi * radius * radius\n",
    "print(area)\n",
    "circumference = 2 * pi * radius \n",
    "print(circumference)"
   ]
  },
  {
   "cell_type": "code",
   "execution_count": 4,
   "metadata": {},
   "outputs": [
    {
     "name": "stdout",
     "output_type": "stream",
     "text": [
      "The y-intercept is  -2 and the x-intercept is  1.0\n",
      "2\n"
     ]
    }
   ],
   "source": [
    "#Calculate the slope, x-intercept and y-intercept of y = 2x -2\n",
    "#comparing to general linear equation 'y = mx +c' where m is the slope\n",
    "slope_1 = 2\n",
    "y_intercept = 2 * 0 -2 # when x is 0\n",
    "x_intercept = -(-2) / 2 # when y is 0\n",
    "print(\"The y-intercept is \", y_intercept, \"and the x-intercept is \", x_intercept)\n",
    "print(slope_1)"
   ]
  },
  {
   "cell_type": "code",
   "execution_count": 5,
   "metadata": {},
   "outputs": [
    {
     "name": "stdout",
     "output_type": "stream",
     "text": [
      "Slope is 2.0\n"
     ]
    }
   ],
   "source": [
    "#Slope is (m = y2-y1/x2-x1). Find the slope and Euclidean distance between point (2, 2) and point (6,10)\n",
    "x1, y1 = 2, 2\n",
    "x2, y2 = 6, 10\n",
    "Slope_2 = (y2-y1) / (x2-x1)\n",
    "print(\"Slope is\",Slope_2 ) "
   ]
  },
  {
   "cell_type": "code",
   "execution_count": 6,
   "metadata": {},
   "outputs": [
    {
     "name": "stdout",
     "output_type": "stream",
     "text": [
      "True\n"
     ]
    }
   ],
   "source": [
    "#Compare the slopes in tasks 8 and 9.\n",
    "print(slope_1 == Slope_2)"
   ]
  },
  {
   "cell_type": "code",
   "execution_count": 16,
   "metadata": {},
   "outputs": [
    {
     "name": "stdout",
     "output_type": "stream",
     "text": [
      "0\n"
     ]
    }
   ],
   "source": [
    "#Calculate the value of y (y = x^2 + 6x + 9). Try to use different x values and figure out at what x value y is going to be 0.\n",
    "x = int(input(\"Enter value of x\"))\n",
    "y = (x**2) + (6*x) + 9\n",
    "print(y)"
   ]
  },
  {
   "cell_type": "code",
   "execution_count": 18,
   "metadata": {},
   "outputs": [
    {
     "name": "stdout",
     "output_type": "stream",
     "text": [
      "6\n",
      "6\n",
      "False\n"
     ]
    }
   ],
   "source": [
    " #Find the length of 'python' and 'dragon' and make a falsy comparison statement.\n",
    "len_python = len(\"python\")\n",
    "len_dragon = len(\"dragon\")\n",
    "print(len_python)\n",
    "print(len_dragon)\n",
    "print(len_dragon != len_python)"
   ]
  },
  {
   "cell_type": "code",
   "execution_count": 19,
   "metadata": {},
   "outputs": [
    {
     "name": "stdout",
     "output_type": "stream",
     "text": [
      "True\n"
     ]
    }
   ],
   "source": [
    "  #Use and operator to check if 'on' is found in both 'python' and 'dragon'\n",
    "on_in_python_and_dragon = \"on\" in \"python\" and \"on\" in \"dragon\"\n",
    "print(on_in_python_and_dragon)"
   ]
  },
  {
   "cell_type": "code",
   "execution_count": 20,
   "metadata": {},
   "outputs": [
    {
     "name": "stdout",
     "output_type": "stream",
     "text": [
      "True\n"
     ]
    }
   ],
   "source": [
    "#I hope this course is not full of jargon. Use in operator to check if jargon is in the sentence.\n",
    "is_jargon_in = \"jargon\" in \"I hope this course is not full of jargon.\"\n",
    "print(is_jargon_in)"
   ]
  },
  {
   "cell_type": "code",
   "execution_count": 21,
   "metadata": {},
   "outputs": [
    {
     "name": "stdout",
     "output_type": "stream",
     "text": [
      "False\n"
     ]
    }
   ],
   "source": [
    "#There is no 'on' in both dragon and python\n",
    "no_on_in = \"on\" not in \"dragon\" and \"python\"\n",
    "print(no_on_in)"
   ]
  },
  {
   "cell_type": "code",
   "execution_count": 24,
   "metadata": {},
   "outputs": [
    {
     "name": "stdout",
     "output_type": "stream",
     "text": [
      "6\n",
      "6.0\n",
      "6\n"
     ]
    }
   ],
   "source": [
    "#Find the length of the text python and convert the value to float and convert it to string\n",
    "len_python = len(\"python\")\n",
    "print(len_python)\n",
    "len_python_in_float = float(len_python)\n",
    "print(len_python_in_float)\n",
    "len_python_str = str(len_python)\n",
    "print(len_python_str)"
   ]
  },
  {
   "cell_type": "code",
   "execution_count": 26,
   "metadata": {},
   "outputs": [
    {
     "name": "stdout",
     "output_type": "stream",
     "text": [
      "5 is odd\n"
     ]
    }
   ],
   "source": [
    "#Even numbers are divisible by 2 and the remainder is zero. How do you check if a number is even or not using python?\n",
    "number = int(input(\"Enter a number\"))\n",
    "if number %2 == 0:\n",
    "    result = f\"{number} is even\"\n",
    "    print(result)\n",
    "else:\n",
    "    result = f\"{number} is odd\"\n",
    "    print(result)"
   ]
  },
  {
   "cell_type": "code",
   "execution_count": 27,
   "metadata": {},
   "outputs": [
    {
     "name": "stdout",
     "output_type": "stream",
     "text": [
      "True\n"
     ]
    }
   ],
   "source": [
    "#Check if the floor division of 7 by 3 is equal to the int converted value of 2.7.\n",
    "Floor_division = 7 // 3\n",
    "print(Floor_division == int(2.7))"
   ]
  },
  {
   "cell_type": "code",
   "execution_count": 31,
   "metadata": {},
   "outputs": [
    {
     "name": "stdout",
     "output_type": "stream",
     "text": [
      "False\n",
      "False\n"
     ]
    }
   ],
   "source": [
    "#Check if type of '10' is equal to type of 10\n",
    "print(type('10') == type((10)))\n",
    "#Check if int('9.8') is equal to 10\n",
    "print(type('9.8') == type((10)))"
   ]
  },
  {
   "cell_type": "code",
   "execution_count": 34,
   "metadata": {},
   "outputs": [
    {
     "name": "stdout",
     "output_type": "stream",
     "text": [
      " Your pay for 5.5 hours is 5500.0\n"
     ]
    }
   ],
   "source": [
    "#Writ a script that prompts the user to enter hours and rate per hour. Calculate pay of the person?\n",
    "hours = float(input(\"Enter number of hours: \"))\n",
    "rate_per_hour = float(input(\"Enter rate per hours: \"))\n",
    "pay = f\" Your pay for {hours} hours is {rate_per_hour * hours}\"\n",
    "print(pay)"
   ]
  },
  {
   "cell_type": "code",
   "execution_count": 37,
   "metadata": {},
   "outputs": [
    {
     "name": "stdout",
     "output_type": "stream",
     "text": [
      " You have lived for 157680000.0 seconds\n"
     ]
    }
   ],
   "source": [
    "# Write a script that prompts the user to enter number of years. Calculate the number of seconds a person can live. Assume a person can live hundred years\n",
    "years = float(input(\"Enter years not more than 100: \"))\n",
    "number_of_seconds = f\" You have lived for {years * 365 * 24 * 60 * 60} seconds\"\n",
    "print(number_of_seconds)\n"
   ]
  },
  {
   "cell_type": "code",
   "execution_count": 40,
   "metadata": {},
   "outputs": [
    {
     "name": "stdout",
     "output_type": "stream",
     "text": [
      "1    1    1    1    1    \n",
      "2    1    2    4    8    \n",
      "3    1    3    9    27   \n",
      "4    1    4    16   64   \n",
      "5    1    5    25   125  \n"
     ]
    }
   ],
   "source": [
    "#Write a Python script that displays the following table\n",
    "\n",
    "for n in range(1, 6):\n",
    "    print(f\"{n:<5}{1:<5}{n:<5}{n**2:<5}{n**3:<5}\")\n"
   ]
  }
 ],
 "metadata": {
  "kernelspec": {
   "display_name": "Python 3",
   "language": "python",
   "name": "python3"
  },
  "language_info": {
   "codemirror_mode": {
    "name": "ipython",
    "version": 3
   },
   "file_extension": ".py",
   "mimetype": "text/x-python",
   "name": "python",
   "nbconvert_exporter": "python",
   "pygments_lexer": "ipython3",
   "version": "3.10.12"
  }
 },
 "nbformat": 4,
 "nbformat_minor": 2
}
