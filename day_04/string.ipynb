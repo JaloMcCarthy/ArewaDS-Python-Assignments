{
 "cells": [
  {
   "cell_type": "markdown",
   "metadata": {},
   "source": [
    "# This are the exercises on stings"
   ]
  },
  {
   "cell_type": "code",
   "execution_count": 12,
   "metadata": {},
   "outputs": [
    {
     "name": "stdout",
     "output_type": "stream",
     "text": [
      "Thirty Days of Python\n"
     ]
    }
   ],
   "source": [
    "#Concatenate the string 'Thirty', 'Days', 'Of', 'Python' to a single string, 'Thirty Days Of Python'.\n",
    "result = \"Thirty\" + \" \" + \"Days\" + \" \" + \"of\" + \" \" + \"Python\"\n",
    "print(result)"
   ]
  },
  {
   "cell_type": "code",
   "execution_count": 28,
   "metadata": {},
   "outputs": [
    {
     "name": "stdout",
     "output_type": "stream",
     "text": [
      "Coding For All\n"
     ]
    }
   ],
   "source": [
    "#Concatenate the string 'Coding', 'For' , 'All' to a single string, 'Coding For All'.\n",
    "print(\"Coding\" + \" \" + \"For\" + \" \" + \"All\")"
   ]
  },
  {
   "cell_type": "code",
   "execution_count": 29,
   "metadata": {},
   "outputs": [],
   "source": [
    "#Declare a variable named company and assign it to an initial value \"Coding For All\".\n",
    "company = \"Coding For All\""
   ]
  },
  {
   "cell_type": "code",
   "execution_count": 30,
   "metadata": {},
   "outputs": [
    {
     "name": "stdout",
     "output_type": "stream",
     "text": [
      "Coding For All\n"
     ]
    }
   ],
   "source": [
    "#Print the variable company using print().\n",
    "print(company)"
   ]
  },
  {
   "cell_type": "code",
   "execution_count": 31,
   "metadata": {},
   "outputs": [
    {
     "name": "stdout",
     "output_type": "stream",
     "text": [
      "14\n"
     ]
    }
   ],
   "source": [
    "#Print the length of the company string using len() method and print().\n",
    "print(len(company))"
   ]
  },
  {
   "cell_type": "code",
   "execution_count": 32,
   "metadata": {},
   "outputs": [
    {
     "name": "stdout",
     "output_type": "stream",
     "text": [
      "CODING FOR ALL\n"
     ]
    }
   ],
   "source": [
    "#Change all the characters to uppercase letters using upper() method.\n",
    "company_in_upper = company.upper()\n",
    "print(campany_in_upper)"
   ]
  },
  {
   "cell_type": "code",
   "execution_count": 33,
   "metadata": {},
   "outputs": [
    {
     "name": "stdout",
     "output_type": "stream",
     "text": [
      "coding for all\n"
     ]
    }
   ],
   "source": [
    "#Change all the characters to lowercase letters using lower() method.\n",
    "company_in_lower = company.lower()\n",
    "print(campany_in_lower)"
   ]
  },
  {
   "cell_type": "code",
   "execution_count": 34,
   "metadata": {},
   "outputs": [
    {
     "name": "stdout",
     "output_type": "stream",
     "text": [
      "Coding for all\n",
      "Coding For All\n",
      "cODING fOR aLL\n"
     ]
    }
   ],
   "source": [
    "#Use capitalize(), title(), swapcase() methods to format the value of the string Coding For All.\n",
    "company_in_caps = company.capitalize()\n",
    "print(company_in_caps)\n",
    "company_title = company.title()\n",
    "print(company_title)\n",
    "company_swapcase = company.swapcase()\n",
    "print(company_swapcase)"
   ]
  },
  {
   "cell_type": "code",
   "execution_count": 35,
   "metadata": {},
   "outputs": [
    {
     "name": "stdout",
     "output_type": "stream",
     "text": [
      "Coding\n"
     ]
    }
   ],
   "source": [
    "#Cut(slice) out the first word of Coding For All string.\n",
    "company_slice_0 = company[0:6]\n",
    "print(company_slice_0)\n"
   ]
  },
  {
   "cell_type": "code",
   "execution_count": 36,
   "metadata": {},
   "outputs": [
    {
     "name": "stdout",
     "output_type": "stream",
     "text": [
      "0\n"
     ]
    }
   ],
   "source": [
    "#Check if Coding For All string contains a word Coding using the method index, find or other methods.\n",
    "print(company.find('Coding'))"
   ]
  },
  {
   "cell_type": "code",
   "execution_count": 37,
   "metadata": {},
   "outputs": [
    {
     "name": "stdout",
     "output_type": "stream",
     "text": [
      "Python For All\n"
     ]
    }
   ],
   "source": [
    "#Replace the word coding in the string 'Coding For All' to Python.\n",
    "print(company.replace('Coding', 'Python'))"
   ]
  },
  {
   "cell_type": "code",
   "execution_count": 38,
   "metadata": {},
   "outputs": [
    {
     "name": "stdout",
     "output_type": "stream",
     "text": [
      "Python for All\n"
     ]
    }
   ],
   "source": [
    "#Change Python for Everyone to Python for All using the replace method or other methods.\n",
    "company_01 = \"Python for Everyone\"\n",
    "print(company_01.replace('Python for Everyone', 'Python for All'))"
   ]
  },
  {
   "cell_type": "code",
   "execution_count": 43,
   "metadata": {},
   "outputs": [
    {
     "name": "stdout",
     "output_type": "stream",
     "text": [
      "['Coding For All']\n"
     ]
    }
   ],
   "source": [
    "#Split the string 'Coding For All' using space as the separator (split()) .\n",
    "print(company.split('\\t'))"
   ]
  },
  {
   "cell_type": "code",
   "execution_count": 51,
   "metadata": {},
   "outputs": [
    {
     "name": "stdout",
     "output_type": "stream",
     "text": [
      "['Facebook', 'Google', 'Microsoft', 'Apple', 'IBM', 'Oracle', 'Amazon']\n"
     ]
    }
   ],
   "source": [
    "#\"Facebook, Google, Microsoft, Apple, IBM, Oracle, Amazon\" split the string at the comma.\n",
    "faan_comapanies = \"Facebook, Google, Microsoft, Apple, IBM, Oracle, Amazon\" \n",
    "print(faan_comapanies.split(', '))"
   ]
  },
  {
   "cell_type": "code",
   "execution_count": 52,
   "metadata": {},
   "outputs": [
    {
     "name": "stdout",
     "output_type": "stream",
     "text": [
      "C\n"
     ]
    }
   ],
   "source": [
    "#What is the character at index 0 in the string Coding For All.\n",
    "print(company[0])"
   ]
  },
  {
   "cell_type": "code",
   "execution_count": 53,
   "metadata": {},
   "outputs": [
    {
     "name": "stdout",
     "output_type": "stream",
     "text": [
      "l\n"
     ]
    }
   ],
   "source": [
    "#What is the last index of the string Coding For All.\n",
    "print(company[-1])"
   ]
  },
  {
   "cell_type": "code",
   "execution_count": 58,
   "metadata": {},
   "outputs": [
    {
     "name": "stdout",
     "output_type": "stream",
     "text": [
      " \n"
     ]
    }
   ],
   "source": [
    "#What character is at index 10 in \"Coding For All\" string.\n",
    "print(company[10])"
   ]
  },
  {
   "cell_type": "code",
   "execution_count": 61,
   "metadata": {},
   "outputs": [
    {
     "name": "stdout",
     "output_type": "stream",
     "text": [
      "PFE\n"
     ]
    }
   ],
   "source": [
    "#Create an acronym or an abbreviation for the name 'Python For Everyone'.\n",
    "company_acronym = \"\".join(word[0] for word in company_01.split()).upper()\n",
    "print(company_acronym)"
   ]
  },
  {
   "cell_type": "code",
   "execution_count": 62,
   "metadata": {},
   "outputs": [
    {
     "name": "stdout",
     "output_type": "stream",
     "text": [
      "CFA\n"
     ]
    }
   ],
   "source": [
    "#Create an acronym or an abbreviation for the name 'Coding For All'.\n",
    "company_01_acronym = \"\".join(word[0] for word in company.split()).upper()\n",
    "print(company_01_acronym)"
   ]
  },
  {
   "cell_type": "code",
   "execution_count": 63,
   "metadata": {},
   "outputs": [
    {
     "name": "stdout",
     "output_type": "stream",
     "text": [
      "0\n"
     ]
    }
   ],
   "source": [
    "#Use index to determine the position of the first occurrence of C in Coding For All.\n",
    "print(company.index('C'))"
   ]
  },
  {
   "cell_type": "code",
   "execution_count": 65,
   "metadata": {},
   "outputs": [
    {
     "name": "stdout",
     "output_type": "stream",
     "text": [
      "19\n"
     ]
    }
   ],
   "source": [
    "#Use rfind to determine the position of the last occurrence of l in Coding For All People.\n",
    "string = 'Coding For All People'\n",
    "print(string.rfind('l'))"
   ]
  },
  {
   "cell_type": "code",
   "execution_count": 72,
   "metadata": {},
   "outputs": [
    {
     "name": "stdout",
     "output_type": "stream",
     "text": [
      "31\n"
     ]
    }
   ],
   "source": [
    "#Use index or find to find the position of the first occurrence of the word 'because' in the following sentence: 'You cannot end a sentence with because because because is a conjunction'\n",
    "sentence = \"You cannot end a sentence with because because because is a conjunction\"\n",
    "print(sentence.index('because'))"
   ]
  },
  {
   "cell_type": "code",
   "execution_count": 73,
   "metadata": {},
   "outputs": [
    {
     "name": "stdout",
     "output_type": "stream",
     "text": [
      "47\n"
     ]
    }
   ],
   "source": [
    "#Use rindex to find the position of the last occurrence of the word because in the following sentence: 'You cannot end a sentence with because because because is a conjunction'\n",
    "print(sentence.rindex('because'))"
   ]
  },
  {
   "cell_type": "code",
   "execution_count": 76,
   "metadata": {},
   "outputs": [
    {
     "name": "stdout",
     "output_type": "stream",
     "text": [
      "because because because\n"
     ]
    }
   ],
   "source": [
    "#Slice out the phrase 'because because because' in the following sentence: 'You cannot end a sentence with because because because is a conjunction'\n",
    "sentexnce_slice = sentence[31:54]\n",
    "print(sentexnce_slice)"
   ]
  },
  {
   "cell_type": "code",
   "execution_count": 80,
   "metadata": {},
   "outputs": [
    {
     "name": "stdout",
     "output_type": "stream",
     "text": [
      "True\n"
     ]
    }
   ],
   "source": [
    "#Does ''Coding For All' start with a substring Coding?\n",
    "print(company.startswith('Coding'))"
   ]
  },
  {
   "cell_type": "code",
   "execution_count": 82,
   "metadata": {},
   "outputs": [
    {
     "name": "stdout",
     "output_type": "stream",
     "text": [
      "False\n"
     ]
    }
   ],
   "source": [
    "#Does 'Coding For All' end with a substring coding?\n",
    "print(company.endswith('coding'))"
   ]
  },
  {
   "cell_type": "code",
   "execution_count": 85,
   "metadata": {},
   "outputs": [
    {
     "name": "stdout",
     "output_type": "stream",
     "text": [
      "['Coding', 'For', 'All']\n"
     ]
    }
   ],
   "source": [
    "#'   Coding For All      '  , remove the left and right trailing spaces in the given string.\n",
    "company_with_spaces = '     Coding For All      '\n",
    "print(company_with_spaces.split())"
   ]
  },
  {
   "cell_type": "code",
   "execution_count": 87,
   "metadata": {},
   "outputs": [
    {
     "name": "stdout",
     "output_type": "stream",
     "text": [
      "False\n",
      "True\n"
     ]
    }
   ],
   "source": [
    "'''Which one of the following variables return True when we use the method isidentifier():\n",
    "    30DaysOfPython\n",
    "    thirty_days_of_python '''\n",
    "var_01 = \"30DaysOfPython\"\n",
    "print(var_01.isidentifier())\n",
    "\n",
    "var_02 = \"thirty_days_of_python\"\n",
    "print(var_02.isidentifier())"
   ]
  },
  {
   "cell_type": "code",
   "execution_count": 92,
   "metadata": {},
   "outputs": [
    {
     "name": "stdout",
     "output_type": "stream",
     "text": [
      "Django# Flask# Bottle# Pyramid# Falcon\n"
     ]
    }
   ],
   "source": [
    "#The following list contains the names of some of python libraries: ['Django', 'Flask', 'Bottle', 'Pyramid', 'Falcon']. Join the list with a hash with space string.\n",
    "python_lib = ['Django', 'Flask', 'Bottle', 'Pyramid', 'Falcon'] \n",
    "python_lib_with_hash = \"# \".join(python_lib)\n",
    "\n",
    "print(python_lib_with_hash)"
   ]
  },
  {
   "cell_type": "code",
   "execution_count": 94,
   "metadata": {},
   "outputs": [
    {
     "name": "stdout",
     "output_type": "stream",
     "text": [
      "I am enjoying this challenge.\n",
      "I just wonder what is next.\n"
     ]
    }
   ],
   "source": [
    "'''Use the new line escape sequence to separate the following sentences.\n",
    "I am enjoying this challenge.\n",
    "I just wonder what is next.'''\n",
    "\n",
    "print(\"I am enjoying this challenge.\\nI just wonder what is next.\")"
   ]
  },
  {
   "cell_type": "code",
   "execution_count": 101,
   "metadata": {},
   "outputs": [
    {
     "name": "stdout",
     "output_type": "stream",
     "text": [
      "Name\t\tAge\tCountry\t\tCity\n",
      "Asabeneh\t250\tFinland\t\tHelsinki\n"
     ]
    }
   ],
   "source": [
    "'''Use a tab escape sequence to write the following lines.\n",
    "Name      Age     Country   City\n",
    "Asabeneh  250     Finland   Helsinki'''\n",
    "\n",
    "print('Name\\t\\tAge\\tCountry\\t\\tCity\\nAsabeneh\\t250\\tFinland\\t\\tHelsinki')"
   ]
  },
  {
   "cell_type": "code",
   "execution_count": 103,
   "metadata": {},
   "outputs": [
    {
     "name": "stdout",
     "output_type": "stream",
     "text": [
      "The area of a circle with radius 10 is 314.0 meters square.\n"
     ]
    }
   ],
   "source": [
    "'''    Use the string formatting method to display the following:\n",
    "radius = 10\n",
    "area = 3.14 * radius ** 2\n",
    "The area of a circle with radius 10 is 314 meters square.'''\n",
    "\n",
    "radius = 10\n",
    "area = 3.14 * radius ** 2\n",
    "string_formatted = f\"The area of a circle with radius {radius} is {area} meters square.\"\n",
    "print(string_formatted)"
   ]
  },
  {
   "cell_type": "code",
   "execution_count": 106,
   "metadata": {},
   "outputs": [
    {
     "name": "stdout",
     "output_type": "stream",
     "text": [
      "8 + 6 = 14\n",
      "8 - 6 = 2\n",
      "8 * 6 = 48\n",
      "8 / 6 = 1.3333333333333333\n",
      "8 % 6 = 2\n",
      "8 // 6 = 1\n",
      "8 ** 6 = 262144\n"
     ]
    }
   ],
   "source": [
    "'''Make the following using string formatting methods:\n",
    "\n",
    "8 + 6 = 14\n",
    "8 - 6 = 2\n",
    "8 * 6 = 48\n",
    "8 / 6 = 1.33\n",
    "8 % 6 = 2\n",
    "8 // 6 = 1\n",
    "8 ** 6 = 262144\n",
    "'''\n",
    "print(f'{8} + {6} = {8 + 6}')\n",
    "print(f'{8} - {6} = {8 - 6}')\n",
    "print(f'{8} * {6} = {8 * 6}')\n",
    "print(f'{8} / {6} = {8 / 6}')\n",
    "print(f'{8} % {6} = {8 % 6}')\n",
    "print(f'{8} // {6} = {8 // 6}')\n",
    "print(f'{8} ** {6} = {8 ** 6}')\n",
    "\n",
    "\n",
    "\n"
   ]
  },
  {
   "cell_type": "markdown",
   "metadata": {},
   "source": [
    "# This marks the end the exercises under string"
   ]
  }
 ],
 "metadata": {
  "kernelspec": {
   "display_name": "Python 3",
   "language": "python",
   "name": "python3"
  },
  "language_info": {
   "codemirror_mode": {
    "name": "ipython",
    "version": 3
   },
   "file_extension": ".py",
   "mimetype": "text/x-python",
   "name": "python",
   "nbconvert_exporter": "python",
   "pygments_lexer": "ipython3",
   "version": "3.10.12"
  }
 },
 "nbformat": 4,
 "nbformat_minor": 2
}
