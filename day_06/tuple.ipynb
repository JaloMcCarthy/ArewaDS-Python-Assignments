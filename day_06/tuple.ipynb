{
 "cells": [
  {
   "cell_type": "markdown",
   "metadata": {},
   "source": [
    "# Tuple Exercises: Level 1"
   ]
  },
  {
   "cell_type": "code",
   "execution_count": 2,
   "metadata": {},
   "outputs": [
    {
     "name": "stdout",
     "output_type": "stream",
     "text": [
      "6\n",
      "['Adam', 'Sadiq', 'Ibrahim', 'Hauwa', 'Binta', 'Larai']\n",
      "['Adam', 'Sadiq', 'Ibrahim', 'Hauwa', 'Binta', 'Larai', 'Father', 'Mother']\n",
      "['Adam', 'Sadiq', 'Ibrahim', 'Hauwa', 'Binta', 'Larai', 'Father', 'Mother']\n"
     ]
    }
   ],
   "source": [
    "#Create an empty tuple\n",
    "new_tuple = ()\n",
    "\n",
    "#Create a tuple containing names of your sisters and your brothers (imaginary siblings are fine)\n",
    "brothers = ('Adam', 'Sadiq', 'Ibrahim')\n",
    "sisters = ('Hauwa', 'Binta', 'Larai')\n",
    "\n",
    "\n",
    "#Join brothers and sisters tuples and assign it to siblings\n",
    "siblings = brothers + sisters\n",
    "\n",
    "#How many siblings do you have?\n",
    "print(len(siblings))\n",
    "\n",
    "#Modify the siblings tuple and add the name of your father and mother and assign it to family_members\n",
    "sibling_list = list(siblings)\n",
    "print(sibling_list)\n",
    "sibling_list.append('Father')\n",
    "sibling_list.append('Mother')\n",
    "print(sibling_list)\n",
    "\n",
    "family_members = sibling_list\n",
    "print(family_members)\n"
   ]
  },
  {
   "cell_type": "markdown",
   "metadata": {},
   "source": [
    "# Tuple Exercises: Level 2"
   ]
  },
  {
   "cell_type": "code",
   "execution_count": 9,
   "metadata": {},
   "outputs": [
    {
     "name": "stdout",
     "output_type": "stream",
     "text": [
      "Adam\n",
      "Sadiq\n",
      "Ibrahim\n",
      "['Hauwa', 'Binta', 'Larai']\n",
      "Father\n",
      "Mother\n"
     ]
    }
   ],
   "source": [
    "\n",
    "#Unpack siblings and parents from family_members\n",
    "first, second, third, *rest, mo, fa = family_members\n",
    "print(first)\n",
    "print(second)\n",
    "print(third)\n",
    "print(rest)\n",
    "print(mo)\n",
    "print(fa)"
   ]
  },
  {
   "cell_type": "code",
   "execution_count": 10,
   "metadata": {},
   "outputs": [
    {
     "name": "stdout",
     "output_type": "stream",
     "text": [
      "('banana', 'apple', 'lemon')\n",
      "('cabbage', 'latus')\n",
      "('cow', 'ram')\n",
      "('banana', 'apple', 'lemon', 'cabbage', 'latus', 'cow', 'ram')\n"
     ]
    }
   ],
   "source": [
    "#Create fruits, vegetables and animal products tuples. Join the three tuples and assign it to a variable called food_stuff_tp.\n",
    "fruits = ('banana', 'apple', 'lemon')\n",
    "print(fruits)\n",
    "vegetables = ('cabbage', 'latus')\n",
    "print(vegetables)\n",
    "animals = ('cow', 'ram')\n",
    "print(animals)\n",
    "\n",
    "food_stuffs_tp = fruits + vegetables + animals\n",
    "print(food_stuffs_tp)"
   ]
  },
  {
   "cell_type": "code",
   "execution_count": 11,
   "metadata": {},
   "outputs": [],
   "source": [
    "#Change the about food_stuff_tp tuple to a food_stuff_lt list\n",
    "food_stuffs_lt = food_stuffs_tp"
   ]
  },
  {
   "cell_type": "code",
   "execution_count": 12,
   "metadata": {},
   "outputs": [
    {
     "name": "stdout",
     "output_type": "stream",
     "text": [
      "cabbage\n"
     ]
    }
   ],
   "source": [
    "#Slice out the middle item or items from the food_stuff_tp tuple or food_stuff_lt list.\n",
    "middle = len(food_stuffs_lt) // 2\n",
    "middle_food_stuff = food_stuffs_lt[middle]\n",
    "print(middle_food_stuff)"
   ]
  },
  {
   "cell_type": "code",
   "execution_count": 13,
   "metadata": {},
   "outputs": [
    {
     "name": "stdout",
     "output_type": "stream",
     "text": [
      "('banana', 'apple', 'lemon')\n"
     ]
    }
   ],
   "source": [
    "#Slice out the first three items and the last three items from food_staff_lt list\n",
    "first_three_items = food_stuffs_lt[0:3] \n",
    "print(first_three_items)"
   ]
  },
  {
   "cell_type": "code",
   "execution_count": 15,
   "metadata": {},
   "outputs": [
    {
     "ename": "NameError",
     "evalue": "name 'food_stuffs_tp' is not defined",
     "output_type": "error",
     "traceback": [
      "\u001b[0;31m---------------------------------------------------------------------------\u001b[0m",
      "\u001b[0;31mNameError\u001b[0m                                 Traceback (most recent call last)",
      "Cell \u001b[0;32mIn[15], line 2\u001b[0m\n\u001b[1;32m      1\u001b[0m \u001b[38;5;66;03m#Delete the food_staff_tp tuple completely\u001b[39;00m\n\u001b[0;32m----> 2\u001b[0m \u001b[38;5;28;01mdel\u001b[39;00m food_stuffs_tp\n\u001b[1;32m      3\u001b[0m \u001b[38;5;28mprint\u001b[39m(food_stuffs_tp) \u001b[38;5;66;03m# it will error as the food_stuff_tp is not define anymore\u001b[39;00m\n",
      "\u001b[0;31mNameError\u001b[0m: name 'food_stuffs_tp' is not defined"
     ]
    }
   ],
   "source": [
    "#Delete the food_staff_tp tuple completely\n",
    "del food_stuffs_tp\n",
    "print(food_stuffs_tp) # it will error as the food_stuff_tp is not define anymore"
   ]
  },
  {
   "cell_type": "code",
   "execution_count": 21,
   "metadata": {},
   "outputs": [
    {
     "name": "stdout",
     "output_type": "stream",
     "text": [
      "False\n",
      "False\n",
      "True\n"
     ]
    }
   ],
   "source": [
    "#Check if an item exists in tuple:\n",
    "nordic_countries = ('Denmark', 'Finland','Iceland', 'Norway', 'Sweden')\n",
    "print('Nigeria' in nordic_countries)\n",
    "\n",
    " #   Check if 'Estonia' is a nordic country\n",
    "print('Estonia' in nordic_countries)\n",
    "\n",
    "  #  Check if 'Iceland' is a nordic country\n",
    "print('Iceland' in nordic_countries)\n",
    "\n",
    "   # nordic_countries = ('Denmark', 'Finland','Iceland', 'Norway', 'Sweden')"
   ]
  }
 ],
 "metadata": {
  "kernelspec": {
   "display_name": "Python 3",
   "language": "python",
   "name": "python3"
  },
  "language_info": {
   "codemirror_mode": {
    "name": "ipython",
    "version": 3
   },
   "file_extension": ".py",
   "mimetype": "text/x-python",
   "name": "python",
   "nbconvert_exporter": "python",
   "pygments_lexer": "ipython3",
   "version": "3.10.12"
  }
 },
 "nbformat": 4,
 "nbformat_minor": 2
}
