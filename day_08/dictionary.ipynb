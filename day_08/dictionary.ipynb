{
 "cells": [
  {
   "cell_type": "markdown",
   "metadata": {},
   "source": [
    "## Exercises on dictionary"
   ]
  },
  {
   "cell_type": "markdown",
   "metadata": {},
   "source": [
    "\n",
    "    Create an empty dictionary called dog\n",
    "    Add name, color, breed, legs, age to the dog dictionary\n",
    "    Create a student dictionary and add first_name, last_name, gender, age, marital status, skills, country, city and address as keys for the dictionary\n",
    "    Get the length of the student dictionary\n",
    "    Get the value of skills and check the data type, it should be a list\n",
    "    Modify the skills values by adding one or two skills\n",
    "    Get the dictionary keys as a list\n",
    "    Get the dictionary values as a list\n",
    "    Change the dictionary to a list of tuples using items() method\n",
    "    Delete one of the items in the dictionary\n",
    "    Delete one of the dictionaries\n"
   ]
  },
  {
   "cell_type": "code",
   "execution_count": 1,
   "metadata": {},
   "outputs": [
    {
     "name": "stdout",
     "output_type": "stream",
     "text": [
      "{'name': 'smart', 'breed': 'German', 'color': 'black', 'legs': 4, 'age': 5}\n"
     ]
    }
   ],
   "source": [
    "# Create an empty dictionary called dog\n",
    "dog = {}\n",
    "\n",
    "# Add name, color, breed, legs, age to the dog dictionary\n",
    "dog['name'] = 'smart'\n",
    "dog['breed'] = 'German'\n",
    "dog['color'] = 'black'\n",
    "dog['legs'] = 4\n",
    "dog['age'] = 5\n",
    "print(dog)\n"
   ]
  },
  {
   "cell_type": "code",
   "execution_count": 5,
   "metadata": {},
   "outputs": [
    {
     "name": "stdout",
     "output_type": "stream",
     "text": [
      "{'first_name': 'Adams', 'last_name': 'Ibrahim', 'gender': 'male', 'age': 25, 'marital_status': 'single', 'skills': ['Python', 'javascript', 'MATLAB'], 'country': 'Nigeria', 'city': ''}\n"
     ]
    }
   ],
   "source": [
    "# Create a student dictionary and add first_name, last_name, gender, age, marital status, skills, country, city and address as keys for the dictionary \n",
    "student = {'first_name':'Adams', \n",
    "           'last_name':'Ibrahim', \n",
    "           'gender':'male', \n",
    "           'age':25, \n",
    "           'marital_status':'single', \n",
    "           'skills': ['Python', 'javascript', 'MATLAB'],\n",
    "           'country': \"Nigeria\",\n",
    "           'city':''          \n",
    "\n",
    "            }\n",
    "print(student)"
   ]
  },
  {
   "cell_type": "code",
   "execution_count": 6,
   "metadata": {},
   "outputs": [
    {
     "name": "stdout",
     "output_type": "stream",
     "text": [
      "8\n"
     ]
    }
   ],
   "source": [
    "# Get the length of the student dictionary\n",
    "print(len(student))"
   ]
  },
  {
   "cell_type": "code",
   "execution_count": 8,
   "metadata": {},
   "outputs": [
    {
     "name": "stdout",
     "output_type": "stream",
     "text": [
      "['Python', 'javascript', 'MATLAB']\n"
     ]
    },
    {
     "data": {
      "text/plain": [
       "list"
      ]
     },
     "execution_count": 8,
     "metadata": {},
     "output_type": "execute_result"
    }
   ],
   "source": [
    "# Get the value of skills and check the data type, it should be a list\n",
    "print(student['skills'])\n",
    "type(student['skills'])"
   ]
  },
  {
   "cell_type": "code",
   "execution_count": 9,
   "metadata": {},
   "outputs": [
    {
     "name": "stdout",
     "output_type": "stream",
     "text": [
      "['Python', 'javascript', 'MATLAB', 'data cleaning']\n"
     ]
    }
   ],
   "source": [
    "# Modify the skills values by adding one or two skills\n",
    "student['skills'].append('data cleaning')\n",
    "print(student['skills'])"
   ]
  },
  {
   "cell_type": "code",
   "execution_count": 14,
   "metadata": {},
   "outputs": [
    {
     "name": "stdout",
     "output_type": "stream",
     "text": [
      "dict_keys(['first_name', 'last_name', 'gender', 'age', 'marital_status', 'skills', 'country', 'city'])\n"
     ]
    }
   ],
   "source": [
    "# Get the dictionary keys as a list\n",
    "keys = student.keys()\n",
    "print(keys)"
   ]
  },
  {
   "cell_type": "code",
   "execution_count": 15,
   "metadata": {},
   "outputs": [
    {
     "name": "stdout",
     "output_type": "stream",
     "text": [
      "dict_values(['Adams', 'Ibrahim', 'male', 25, 'single', ['Python', 'javascript', 'MATLAB', 'data cleaning'], 'Nigeria', ''])\n"
     ]
    }
   ],
   "source": [
    "# Get the dictionary values as a list\n",
    "values = student.values()\n",
    "print(values)"
   ]
  },
  {
   "cell_type": "code",
   "execution_count": 17,
   "metadata": {},
   "outputs": [
    {
     "name": "stdout",
     "output_type": "stream",
     "text": [
      "dict_items([('first_name', 'Adams'), ('last_name', 'Ibrahim'), ('gender', 'male'), ('age', 25), ('marital_status', 'single'), ('skills', ['Python', 'javascript', 'MATLAB', 'data cleaning']), ('country', 'Nigeria'), ('city', '')])\n"
     ]
    }
   ],
   "source": [
    "# Change the dictionary to a list of tuples using items() method\n",
    "print(student.items())\n"
   ]
  },
  {
   "cell_type": "code",
   "execution_count": 19,
   "metadata": {},
   "outputs": [
    {
     "name": "stdout",
     "output_type": "stream",
     "text": [
      "{'first_name': 'Adams', 'last_name': 'Ibrahim', 'gender': 'male', 'age': 25, 'marital_status': 'single', 'skills': ['Python', 'javascript'], 'country': 'Nigeria', 'city': ''}\n"
     ]
    }
   ],
   "source": [
    "#Delete one of the items in the dictionary\n",
    "del student['skills'][-1]\n",
    "print(student)"
   ]
  },
  {
   "cell_type": "code",
   "execution_count": 20,
   "metadata": {},
   "outputs": [],
   "source": [
    "# Delete one of the dictionaries\n",
    "del dog"
   ]
  },
  {
   "cell_type": "code",
   "execution_count": 21,
   "metadata": {},
   "outputs": [
    {
     "ename": "NameError",
     "evalue": "name 'dog' is not defined",
     "output_type": "error",
     "traceback": [
      "\u001b[0;31m---------------------------------------------------------------------------\u001b[0m",
      "\u001b[0;31mNameError\u001b[0m                                 Traceback (most recent call last)",
      "Cell \u001b[0;32mIn[21], line 1\u001b[0m\n\u001b[0;32m----> 1\u001b[0m \u001b[38;5;28mprint\u001b[39m(\u001b[43mdog\u001b[49m)\n",
      "\u001b[0;31mNameError\u001b[0m: name 'dog' is not defined"
     ]
    }
   ],
   "source": [
    "print(dog)"
   ]
  },
  {
   "cell_type": "markdown",
   "metadata": {},
   "source": [
    "### This mark the end of the exercises "
   ]
  }
 ],
 "metadata": {
  "kernelspec": {
   "display_name": "Python 3",
   "language": "python",
   "name": "python3"
  },
  "language_info": {
   "codemirror_mode": {
    "name": "ipython",
    "version": 3
   },
   "file_extension": ".py",
   "mimetype": "text/x-python",
   "name": "python",
   "nbconvert_exporter": "python",
   "pygments_lexer": "ipython3",
   "version": "3.10.12"
  }
 },
 "nbformat": 4,
 "nbformat_minor": 2
}
