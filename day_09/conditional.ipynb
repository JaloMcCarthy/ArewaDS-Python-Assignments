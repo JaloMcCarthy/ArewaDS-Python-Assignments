{
 "cells": [
  {
   "cell_type": "markdown",
   "metadata": {},
   "source": [
    "### Exercises level 1"
   ]
  },
  {
   "cell_type": "code",
   "execution_count": 6,
   "metadata": {},
   "outputs": [
    {
     "name": "stdout",
     "output_type": "stream",
     "text": [
      "You need 3 more years to learn to drive. \n"
     ]
    }
   ],
   "source": [
    " # Get user input using input(“Enter your age: ”). If user is 18 or older, give feedback: You are old enough to drive. If below 18 give feedback to wait for the missing amount of years. Output:\n",
    "\n",
    "\n",
    "age = int(input('Enter your age: '))\n",
    "if age >= 18:\n",
    "    print('You are old enough to drive.')\n",
    "else:\n",
    "    print(f\"You need {18 - age} more years to learn to drive. \")"
   ]
  },
  {
   "cell_type": "code",
   "execution_count": 10,
   "metadata": {},
   "outputs": [
    {
     "name": "stdout",
     "output_type": "stream",
     "text": [
      "We are thesame age\n"
     ]
    }
   ],
   "source": [
    "# compare the values of my_age and your_age using if … else. Who is older (me or you)? Use input(“Enter your age: ”) to get the age as input. You can use a nested condition to print 'year' for 1 year difference in age, 'years' for bigger differences, and a custom text if my_age = your_age. Output:\n",
    "\n",
    "my_age = 20\n",
    "your_age = int(input('Enter your age: '))   \n",
    "\n",
    "if my_age > your_age and my_age-your_age == 1:\n",
    "    print(f'I am 1 year older than you.')\n",
    "elif my_age > your_age and my_age-your_age>1:\n",
    "    print(f'I am {my_age-your_age} years older than you')\n",
    "elif my_age < your_age and your_age-my_age == 1:\n",
    "     print(f'You are 1 year older than me.')\n",
    "elif my_age < your_age and your_age-my_age>1:\n",
    "    print(f'I am {your_age-my_age} years older than you')\n",
    "else:\n",
    "    print('We are thesame age')"
   ]
  },
  {
   "cell_type": "code",
   "execution_count": 11,
   "metadata": {},
   "outputs": [
    {
     "name": "stdout",
     "output_type": "stream",
     "text": [
      "6 is greater than 5\n"
     ]
    }
   ],
   "source": [
    "''' Get two numbers from the user using input prompt. If a is greater than b return a is greater than b, if a is less b return a is smaller than b, else a is equal to b. Output:\n",
    "\n",
    "Enter number one: 4\n",
    "Enter number two: 3\n",
    "4 is greater than 3'''\n",
    "\n",
    "number_one = int(input('Enter the first number: '))\n",
    "number_two = int(input('Enter the second number: '))\n",
    "\n",
    "if number_one > number_two:\n",
    "    print(f'{number_one} is greater than {number_two}')\n",
    "elif number_one < number_two:\n",
    "    print(f'{number_two} is greater than {number_one}')\n",
    "else:\n",
    "    print(f'{number_one} is equal to {number_two}')"
   ]
  },
  {
   "cell_type": "markdown",
   "metadata": {},
   "source": [
    "### Exercise Level 2"
   ]
  },
  {
   "cell_type": "code",
   "execution_count": 19,
   "metadata": {},
   "outputs": [
    {
     "name": "stdout",
     "output_type": "stream",
     "text": [
      "You scored 59 and have D Grade\n"
     ]
    }
   ],
   "source": [
    "'''Write a code which gives grade to students according to theirs scores:\n",
    "\n",
    "80-100, A\n",
    "70-89, B\n",
    "60-69, C\n",
    "50-59, D\n",
    "0-49, F\n",
    "'''\n",
    "student_score = int(input('Enter your student: '))\n",
    "\n",
    "if student_score <= 49:\n",
    "    print(f'You scored {student_score} and have F Grade')\n",
    "elif student_score <= 59:\n",
    "     print(f'You scored {student_score} and have D Grade')\n",
    "elif student_score <= 69:\n",
    "     print(f'You scored {student_score} and have C Grade')\n",
    "elif student_score <= 89:\n",
    "     printf('You scored {student_score} and have B Grade')\n",
    "elif student_score <= 100:\n",
    "     print(f'You scored {student_score} and have A Grade')\n",
    "else:\n",
    "     print(f'Please enter a valid score between 0 to 100')\n"
   ]
  },
  {
   "cell_type": "code",
   "execution_count": 20,
   "metadata": {},
   "outputs": [
    {
     "name": "stdout",
     "output_type": "stream",
     "text": [
      "The month is January and it is Autumn season\n"
     ]
    }
   ],
   "source": [
    "# Check if the season is Autumn, Winter, Spring or Summer. \n",
    "# If the user input is: September, October or November, the season is Autumn. \n",
    "# December, January or February, the season is Winter.\n",
    "# March, April or May, the season is Spring June, July or August, the season is Summer\n",
    "month = input('Enter the month: ')\n",
    "\n",
    "if month == 'September' or 'October' or 'November':\n",
    "    print(f'The month is {month} and it is Autumn season')\n",
    "elif month == 'December' or 'January' or 'February':\n",
    "    print(f'The month is {month} and it is Winter season')\n",
    "elif month == 'March' or 'April' or 'May':\n",
    "    print(f'The month is {month} and it is Summer season') \n",
    "else:\n",
    "    print('Please enter a valid month')"
   ]
  },
  {
   "cell_type": "code",
   "execution_count": 24,
   "metadata": {},
   "outputs": [
    {
     "name": "stdout",
     "output_type": "stream",
     "text": [
      "That fruit already exist in the list\n"
     ]
    }
   ],
   "source": [
    "'''The following list contains some fruits:\n",
    "\n",
    "```sh\n",
    "fruits = ['Banana', 'orange', 'mango', 'lemon']\n",
    "```\n",
    "\n",
    "If a fruit doesn't exist in the list add the fruit to the list and print the modified list. If the fruit exists print('That fruit already exist in the list')\n",
    "'''\n",
    "fruits = ['banana', 'Apple', 'Orange']\n",
    "\n",
    "fruit = input('Enter fruit: ')\n",
    "\n",
    "if fruit in fruits:\n",
    "    print('That fruit already exist in the list')\n",
    "else:\n",
    "    fruits.append(fruit)\n",
    "    print(fruits)\n"
   ]
  },
  {
   "cell_type": "markdown",
   "metadata": {},
   "source": [
    "### Exercise level 3"
   ]
  },
  {
   "cell_type": "code",
   "execution_count": 26,
   "metadata": {},
   "outputs": [],
   "source": [
    "'''\n",
    "    Here we have a person dictionary. Feel free to modify it!\n",
    "\n",
    "        person={\n",
    "    'first_name': 'Asabeneh',\n",
    "    'last_name': 'Yetayeh',\n",
    "    'age': 250,\n",
    "    'country': 'Finland',\n",
    "    'is_marred': True,\n",
    "    'skills': ['JavaScript', 'React', 'Node', 'MongoDB', 'Python'],\n",
    "    'address': {\n",
    "        'street': 'Space street',\n",
    "        'zipcode': '02210'\n",
    "    }\n",
    "    }'''\n",
    "person={\n",
    "    'first_name': 'Asabeneh',\n",
    "    'last_name': 'Yetayeh',\n",
    "    'age': 250,\n",
    "    'country': 'Finland',\n",
    "    'is_marred': True,\n",
    "    'skills': ['JavaScript', 'React', 'Node', 'MongoDB', 'Python'],\n",
    "    'address': {\n",
    "        'street': 'Space street',\n",
    "        'zipcode': '02210'\n",
    "        }\n",
    "    }\n",
    "\n"
   ]
  },
  {
   "cell_type": "code",
   "execution_count": 28,
   "metadata": {},
   "outputs": [
    {
     "name": "stdout",
     "output_type": "stream",
     "text": [
      "['JavaScript', 'React', 'Node', 'MongoDB', 'Python']\n"
     ]
    }
   ],
   "source": [
    "\n",
    "# Check if the person dictionary has skills key, if so print out the middle skill in the skills list.\n",
    "if 'skills' in person:\n",
    "    print(person['skills'])"
   ]
  },
  {
   "cell_type": "code",
   "execution_count": 32,
   "metadata": {},
   "outputs": [
    {
     "name": "stdout",
     "output_type": "stream",
     "text": [
      "['JavaScript', 'React', 'Node', 'MongoDB', 'Python']\n"
     ]
    }
   ],
   "source": [
    "\n",
    "# Check if the person dictionary has skills key, if so check if the person has 'Python' skill and print out the result.\n",
    "if 'skills' in person and  'Python' in person['skills']:\n",
    "    print(person['skills']) \n",
    "else:\n",
    "    print('He don\\'t have Python skill')\n"
   ]
  },
  {
   "cell_type": "code",
   "execution_count": 47,
   "metadata": {},
   "outputs": [
    {
     "name": "stdout",
     "output_type": "stream",
     "text": [
      "Your skills are ['Node', 'Python', 'MongoDB'] and you are a back end developer\n"
     ]
    }
   ],
   "source": [
    "# If a person skills has only JavaScript and React, print('He is a front end developer'),\n",
    "# if the person skills has Node, Python, MongoDB, print('He is a backend developer'), \n",
    "# if the person skills has React, Node and MongoDB, Print('He is a fullstack developer'), \n",
    "# else print('unknown title') - for more accurate results more conditions can be nested!\n",
    "\n",
    "new_person={\n",
    "    'first_name': 'Asabeneh',\n",
    "    'last_name': 'Yetayeh',\n",
    "    'age': 250,\n",
    "    'country': 'Finland',\n",
    "    'is_married': True,\n",
    "    'skills': ['Node', 'Python', 'MongoDB'],\n",
    "    'address': {\n",
    "        'street': 'Space street',\n",
    "        'zipcode': '02210'\n",
    "        }\n",
    "    }\n",
    "\n",
    "\n",
    "if 'JavaScript' in new_person['skills'] and 'React' in new_person['skills'] and not 'Node' in new_person['skills']:\n",
    "    print(f'Your skills are {new_person[\"skills\"]} and you are a front end developer')\n",
    "elif 'Node' in new_person['skills'] and 'Python' in new_person['skills'] and 'MongoDB' in new_person['skills']:\n",
    "    print(f'Your skills are {new_person[\"skills\"]} and you are a back end developer')\n",
    "elif 'Node' in new_person['skills'] and 'MongoDB' in new_person['skills'] and 'MongoDB' in new_person['skills']:\n",
    "    print(f'Your skills are {new_person[\"skills\"]} and you are a fullstack developer')\n",
    "else:\n",
    "    print('unknown title')"
   ]
  },
  {
   "cell_type": "code",
   "execution_count": 50,
   "metadata": {},
   "outputs": [
    {
     "name": "stdout",
     "output_type": "stream",
     "text": [
      "Asabeneh Yetayeh lives in Finland. He is married\n"
     ]
    }
   ],
   "source": [
    "# If the person is married and if he lives in Finland, print the information in the following format:\n",
    "#         Asabeneh Yetayeh lives in Finland. He is married.\n",
    "\n",
    "if new_person['is_married'] == True and new_person['country'] == 'Finland':\n",
    "    print(f\"{new_person['first_name']} {new_person['last_name']} lives in {new_person['country']}. He is married\")\n"
   ]
  }
 ],
 "metadata": {
  "kernelspec": {
   "display_name": "Python 3",
   "language": "python",
   "name": "python3"
  },
  "language_info": {
   "codemirror_mode": {
    "name": "ipython",
    "version": 3
   },
   "file_extension": ".py",
   "mimetype": "text/x-python",
   "name": "python",
   "nbconvert_exporter": "python",
   "pygments_lexer": "ipython3",
   "version": "3.10.12"
  }
 },
 "nbformat": 4,
 "nbformat_minor": 2
}
