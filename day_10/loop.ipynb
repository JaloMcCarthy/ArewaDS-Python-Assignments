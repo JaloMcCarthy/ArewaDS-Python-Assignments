{
 "cells": [
  {
   "cell_type": "markdown",
   "metadata": {},
   "source": [
    "### Exercises Level 1"
   ]
  },
  {
   "cell_type": "code",
   "execution_count": 5,
   "metadata": {},
   "outputs": [
    {
     "name": "stdout",
     "output_type": "stream",
     "text": [
      "0\n",
      "1\n",
      "2\n",
      "3\n",
      "4\n",
      "5\n",
      "6\n",
      "7\n",
      "8\n",
      "9\n",
      "10\n",
      "0\n",
      "1\n",
      "2\n",
      "3\n",
      "4\n",
      "5\n",
      "6\n",
      "7\n",
      "8\n",
      "9\n",
      "10\n"
     ]
    }
   ],
   "source": [
    "# Iterate 0 to 10 using for loop, do the same using while loop.\n",
    "for number in range(11):\n",
    "    print(number)\n",
    " \n",
    "number1 = 0\n",
    "while number1 < 11:\n",
    "    print(number1)\n",
    "    number1 += 1"
   ]
  },
  {
   "cell_type": "code",
   "execution_count": 14,
   "metadata": {},
   "outputs": [
    {
     "name": "stdout",
     "output_type": "stream",
     "text": [
      "10\n",
      "9\n",
      "8\n",
      "7\n",
      "6\n",
      "5\n",
      "4\n",
      "3\n",
      "2\n",
      "1\n",
      "0\n",
      "10\n",
      "9\n",
      "8\n",
      "7\n",
      "6\n",
      "5\n",
      "4\n",
      "3\n",
      "2\n",
      "1\n",
      "0\n"
     ]
    }
   ],
   "source": [
    "# Iterate 10 to 0 using for loop, do the same using while loop.\n",
    "for num in range(10, -1, -1):\n",
    "    print(num)\n",
    "    \n",
    "num1 =10\n",
    "while num1 >= 0:\n",
    "    print(num1)\n",
    "    num1 -= 1 "
   ]
  },
  {
   "cell_type": "code",
   "execution_count": 15,
   "metadata": {},
   "outputs": [
    {
     "name": "stdout",
     "output_type": "stream",
     "text": [
      "\n",
      "#\n",
      "##\n",
      "###\n",
      "####\n",
      "#####\n",
      "######\n",
      "#######\n"
     ]
    }
   ],
   "source": [
    "# Write a loop that makes seven calls to print(), so we get on the output the following triangle:\n",
    "\n",
    "for hash in range(8):\n",
    "    print(\"#\" * hash)"
   ]
  },
  {
   "cell_type": "code",
   "execution_count": 18,
   "metadata": {},
   "outputs": [
    {
     "name": "stdout",
     "output_type": "stream",
     "text": [
      "# # # # # # # # \n",
      "# # # # # # # # \n",
      "# # # # # # # # \n",
      "# # # # # # # # \n",
      "# # # # # # # # \n",
      "# # # # # # # # \n",
      "# # # # # # # # \n",
      "# # # # # # # # \n",
      "# # # # # # # # \n"
     ]
    }
   ],
   "source": [
    "'''Use nested loops to create the following:\n",
    "# # # # # # # #\n",
    "# # # # # # # #\n",
    "# # # # # # # #\n",
    "# # # # # # # #\n",
    "# # # # # # # #\n",
    "# # # # # # # #\n",
    "# # # # # # # #\n",
    "# # # # # # # # '''\n",
    "\n",
    "for hashtag in range(9):\n",
    "    print(f'# ' * 8)"
   ]
  },
  {
   "cell_type": "code",
   "execution_count": 21,
   "metadata": {},
   "outputs": [
    {
     "name": "stdout",
     "output_type": "stream",
     "text": [
      "0 x 0 = 0\n",
      "1 x 1 = 1\n",
      "2 x 2 = 4\n",
      "3 x 3 = 9\n",
      "4 x 4 = 16\n",
      "5 x 5 = 25\n",
      "6 x 6 = 36\n",
      "7 x 7 = 49\n",
      "8 x 8 = 64\n",
      "9 x 9 = 81\n",
      "10 x 10 = 100\n"
     ]
    }
   ],
   "source": [
    "'''Print the following pattern:\n",
    "\n",
    "0 x 0 = 0\n",
    "1 x 1 = 1\n",
    "2 x 2 = 4\n",
    "3 x 3 = 9\n",
    "4 x 4 = 16\n",
    "5 x 5 = 25\n",
    "6 x 6 = 36\n",
    "7 x 7 = 49\n",
    "8 x 8 = 64\n",
    "9 x 9 = 81\n",
    "10 x 10 = 100'''\n",
    "\n",
    "for x in range(11):\n",
    "    print(f'{x} x {x} = {x * x}')"
   ]
  },
  {
   "cell_type": "code",
   "execution_count": 22,
   "metadata": {},
   "outputs": [
    {
     "name": "stdout",
     "output_type": "stream",
     "text": [
      "Python\n",
      "Numpy\n",
      "Pandas\n",
      "Django\n",
      "Flask\n"
     ]
    }
   ],
   "source": [
    "# Iterate through the list, ['Python', 'Numpy','Pandas','Django', 'Flask'] using a for loop and print out the items.\n",
    "skills = ['Python', 'Numpy','Pandas','Django', 'Flask']\n",
    "\n",
    "for skill in skills:\n",
    "    print(skill)"
   ]
  },
  {
   "cell_type": "code",
   "execution_count": 24,
   "metadata": {},
   "outputs": [
    {
     "name": "stdout",
     "output_type": "stream",
     "text": [
      "0\n",
      "2\n",
      "4\n",
      "6\n",
      "8\n",
      "10\n",
      "12\n",
      "14\n",
      "16\n",
      "18\n",
      "20\n",
      "22\n",
      "24\n",
      "26\n",
      "28\n",
      "30\n",
      "32\n",
      "34\n",
      "36\n",
      "38\n",
      "40\n",
      "42\n",
      "44\n",
      "46\n",
      "48\n",
      "50\n",
      "52\n",
      "54\n",
      "56\n",
      "58\n",
      "60\n",
      "62\n",
      "64\n",
      "66\n",
      "68\n",
      "70\n",
      "72\n",
      "74\n",
      "76\n",
      "78\n",
      "80\n",
      "82\n",
      "84\n",
      "86\n",
      "88\n",
      "90\n",
      "92\n",
      "94\n",
      "96\n",
      "98\n",
      "100\n"
     ]
    }
   ],
   "source": [
    "# Use for loop to iterate from 0 to 100 and print only even numbers\n",
    "\n",
    "for even in range(0, 101, 2):\n",
    "    print(even)"
   ]
  },
  {
   "cell_type": "code",
   "execution_count": 25,
   "metadata": {},
   "outputs": [
    {
     "name": "stdout",
     "output_type": "stream",
     "text": [
      "1\n",
      "3\n",
      "5\n",
      "7\n",
      "9\n",
      "11\n",
      "13\n",
      "15\n",
      "17\n",
      "19\n",
      "21\n",
      "23\n",
      "25\n",
      "27\n",
      "29\n",
      "31\n",
      "33\n",
      "35\n",
      "37\n",
      "39\n",
      "41\n",
      "43\n",
      "45\n",
      "47\n",
      "49\n",
      "51\n",
      "53\n",
      "55\n",
      "57\n",
      "59\n",
      "61\n",
      "63\n",
      "65\n",
      "67\n",
      "69\n",
      "71\n",
      "73\n",
      "75\n",
      "77\n",
      "79\n",
      "81\n",
      "83\n",
      "85\n",
      "87\n",
      "89\n",
      "91\n",
      "93\n",
      "95\n",
      "97\n",
      "99\n"
     ]
    }
   ],
   "source": [
    "# Use for loop to iterate from 0 to 100 and print only odd numbers\n",
    "\n",
    "for odd in range(1, 100, 2):\n",
    "    print(odd)"
   ]
  },
  {
   "cell_type": "markdown",
   "metadata": {},
   "source": [
    "### Exercises level 2"
   ]
  },
  {
   "cell_type": "code",
   "execution_count": 30,
   "metadata": {},
   "outputs": [
    {
     "name": "stdout",
     "output_type": "stream",
     "text": [
      "0\n",
      "1\n",
      "3\n",
      "6\n",
      "10\n",
      "15\n",
      "21\n",
      "28\n",
      "36\n",
      "45\n",
      "55\n",
      "66\n",
      "78\n",
      "91\n",
      "105\n",
      "120\n",
      "136\n",
      "153\n",
      "171\n",
      "190\n",
      "210\n",
      "231\n",
      "253\n",
      "276\n",
      "300\n",
      "325\n",
      "351\n",
      "378\n",
      "406\n",
      "435\n",
      "465\n",
      "496\n",
      "528\n",
      "561\n",
      "595\n",
      "630\n",
      "666\n",
      "703\n",
      "741\n",
      "780\n",
      "820\n",
      "861\n",
      "903\n",
      "946\n",
      "990\n",
      "1035\n",
      "1081\n",
      "1128\n",
      "1176\n",
      "1225\n",
      "1275\n",
      "1326\n",
      "1378\n",
      "1431\n",
      "1485\n",
      "1540\n",
      "1596\n",
      "1653\n",
      "1711\n",
      "1770\n",
      "1830\n",
      "1891\n",
      "1953\n",
      "2016\n",
      "2080\n",
      "2145\n",
      "2211\n",
      "2278\n",
      "2346\n",
      "2415\n",
      "2485\n",
      "2556\n",
      "2628\n",
      "2701\n",
      "2775\n",
      "2850\n",
      "2926\n",
      "3003\n",
      "3081\n",
      "3160\n",
      "3240\n",
      "3321\n",
      "3403\n",
      "3486\n",
      "3570\n",
      "3655\n",
      "3741\n",
      "3828\n",
      "3916\n",
      "4005\n",
      "4095\n",
      "4186\n",
      "4278\n",
      "4371\n",
      "4465\n",
      "4560\n",
      "4656\n",
      "4753\n",
      "4851\n",
      "4950\n",
      "5050\n"
     ]
    }
   ],
   "source": [
    "''' Use for loop to iterate from 0 to 100 and print the sum of all numbers.\n",
    "            The sum of all numbers is 5050.\n",
    "'''\n",
    "sum = 0\n",
    "for x in range(0, 101):\n",
    "    sum += x\n",
    "print(sum)"
   ]
  },
  {
   "cell_type": "code",
   "execution_count": 31,
   "metadata": {},
   "outputs": [
    {
     "name": "stdout",
     "output_type": "stream",
     "text": [
      "0\n",
      "2\n",
      "6\n",
      "12\n",
      "20\n",
      "30\n",
      "42\n",
      "56\n",
      "72\n",
      "90\n",
      "110\n",
      "132\n",
      "156\n",
      "182\n",
      "210\n",
      "240\n",
      "272\n",
      "306\n",
      "342\n",
      "380\n",
      "420\n",
      "462\n",
      "506\n",
      "552\n",
      "600\n",
      "650\n",
      "702\n",
      "756\n",
      "812\n",
      "870\n",
      "930\n",
      "992\n",
      "1056\n",
      "1122\n",
      "1190\n",
      "1260\n",
      "1332\n",
      "1406\n",
      "1482\n",
      "1560\n",
      "1640\n",
      "1722\n",
      "1806\n",
      "1892\n",
      "1980\n",
      "2070\n",
      "2162\n",
      "2256\n",
      "2352\n",
      "2450\n",
      "2550\n"
     ]
    }
   ],
   "source": [
    "'''Use for loop to iterate from 0 to 100 and print the sum of all evens and the sum of all odds.\n",
    "            The sum of all evens is 2550. And the sum of all odds is 2500.'''\n",
    "sum_even = 0\n",
    "for even in range(0, 101, 2):\n",
    "    sum_even += even\n",
    "    print(sum_even)"
   ]
  },
  {
   "cell_type": "code",
   "execution_count": 33,
   "metadata": {},
   "outputs": [
    {
     "name": "stdout",
     "output_type": "stream",
     "text": [
      "1\n",
      "4\n",
      "9\n",
      "16\n",
      "25\n",
      "36\n",
      "49\n",
      "64\n",
      "81\n",
      "100\n",
      "121\n",
      "144\n",
      "169\n",
      "196\n",
      "225\n",
      "256\n",
      "289\n",
      "324\n",
      "361\n",
      "400\n",
      "441\n",
      "484\n",
      "529\n",
      "576\n",
      "625\n",
      "676\n",
      "729\n",
      "784\n",
      "841\n",
      "900\n",
      "961\n",
      "1024\n",
      "1089\n",
      "1156\n",
      "1225\n",
      "1296\n",
      "1369\n",
      "1444\n",
      "1521\n",
      "1600\n",
      "1681\n",
      "1764\n",
      "1849\n",
      "1936\n",
      "2025\n",
      "2116\n",
      "2209\n",
      "2304\n",
      "2401\n",
      "2500\n"
     ]
    }
   ],
   "source": [
    "sum_odd = 0\n",
    "for odd in range(1, 100, 2):\n",
    "    sum_odd += odd\n",
    "    print(sum_odd)"
   ]
  },
  {
   "cell_type": "markdown",
   "metadata": {},
   "source": [
    "### Exercises level 3"
   ]
  },
  {
   "cell_type": "code",
   "execution_count": 36,
   "metadata": {},
   "outputs": [
    {
     "name": "stdout",
     "output_type": "stream",
     "text": [
      "Countries containing 'land': ['Finland', 'Iceland', 'Ireland', 'Marshall Islands', 'Netherlands', 'New Zealand', 'Poland', 'Solomon Islands', 'Swaziland', 'Switzerland', 'Thailand']\n"
     ]
    }
   ],
   "source": [
    "#  Go to the data folder and use the countries.py file. Loop through the countries and extract all the countries containing the word land.\n",
    "from countries import countries\n",
    "countries_with_land = []\n",
    "\n",
    "for country in countries:\n",
    "        if \"land\" in country:\n",
    "              countries_with_land.append(country)\n",
    "\n",
    "# Print the result\n",
    "print(\"Countries containing 'land':\", countries_with_land)\n",
    "\n"
   ]
  },
  {
   "cell_type": "code",
   "execution_count": 37,
   "metadata": {},
   "outputs": [
    {
     "name": "stdout",
     "output_type": "stream",
     "text": [
      "Reversed list: ['lemon', 'mango', 'orange', 'banana']\n"
     ]
    }
   ],
   "source": [
    "# This is a fruit list, ['banana', 'orange', 'mango', 'lemon'] reverse the order using loop.\n",
    "fruit_list = ['banana', 'orange', 'mango', 'lemon']\n",
    "\n",
    "reversed_fruits = []\n",
    "\n",
    "for i in range(len(fruit_list) - 1, -1, -1):\n",
    "    reversed_fruits.append(fruit_list[i])  \n",
    "\n",
    "print(\"Reversed list:\", reversed_fruits)\n"
   ]
  },
  {
   "cell_type": "code",
   "execution_count": 18,
   "metadata": {},
   "outputs": [
    {
     "name": "stdout",
     "output_type": "stream",
     "text": [
      "193\n",
      "{'Pashto': 1, 'Uzbek': 2, 'Turkmen': 2, 'Swedish': 3, 'Albanian': 3, 'Arabic': 25, 'English': 91, 'Samoan': 2, 'Catalan': 1, 'Portuguese': 9, 'Russian': 9, 'Spanish': 24, 'Guaraní': 2, 'Armenian': 2, 'Dutch': 8, '(Eastern) Punjabi': 2, 'German': 7, 'Azerbaijani': 1, 'Bengali': 1, 'Belarusian': 1, 'French': 45, 'Dzongkha': 1, 'Aymara': 1, 'Quechua': 1, 'Bosnian': 2, 'Croatian': 3, 'Serbian': 4, 'Tswana': 2, 'Norwegian': 3, 'Norwegian Bokmål': 2, 'Norwegian Nynorsk': 2, 'Malay': 2, 'Bulgarian': 1, 'Fula': 2, 'Kirundi': 1, 'Khmer': 1, 'Sango': 1, 'Chinese': 5, 'Lingala': 2, 'Kongo': 1, 'Swahili': 4, 'Luba-Katanga': 1, 'Greek (modern)': 2, 'Turkish': 2, 'Czech': 1, 'Slovak': 2, 'Danish': 1, 'Tigrinya': 1, 'Estonian': 1, 'Amharic': 1, 'Faroese': 1, 'Fijian': 1, 'Hindi': 2, 'Urdu': 2, 'Finnish': 1, 'Georgian': 1, 'Kalaallisut': 1, 'Chamorro': 2, 'Haitian': 1, 'Latin': 1, 'Italian': 4, 'Hungarian': 1, 'Icelandic': 1, 'Indonesian': 1, 'Persian (Farsi)': 1, 'Kurdish': 1, 'Irish': 1, 'Manx': 1, 'Hebrew (modern)': 1, 'Japanese': 1, 'Kazakh': 1, 'Kyrgyz': 1, 'Lao': 1, 'Latvian': 1, 'Southern Sotho': 2, 'Lithuanian': 1, 'Luxembourgish': 1, 'Macedonian': 1, 'Malagasy': 1, 'Chichewa': 1, 'Malaysian': 1, 'Divehi': 1, 'Maltese': 1, 'Marshallese': 1, 'Romanian': 2, 'Mongolian': 1, 'Burmese': 1, 'Afrikaans': 2, 'Nauruan': 1, 'Nepali': 1, 'Māori': 1, 'Korean': 2, 'Polish': 1, 'Kinyarwanda': 1, 'Tamil': 2, 'Slovene': 1, 'Somali': 1, 'Southern Ndebele': 1, 'Swati': 2, 'Tsonga': 1, 'Venda': 1, 'Xhosa': 1, 'Zulu': 1, 'Sinhalese': 1, 'Tajik': 1, 'Thai': 1, 'Tonga (Tonga Islands)': 1, 'Ukrainian': 1, 'Bislama': 1, 'Vietnamese': 1, 'Shona': 1, 'Northern Ndebele': 1}\n",
      "The ten most spoken languages are:\n",
      "English: 91 countries\n",
      "French: 45 countries\n",
      "Arabic: 25 countries\n",
      "Spanish: 24 countries\n",
      "Portuguese: 9 countries\n",
      "Russian: 9 countries\n",
      "Dutch: 8 countries\n",
      "German: 7 countries\n",
      "Chinese: 5 countries\n",
      "Serbian: 4 countries\n"
     ]
    }
   ],
   "source": [
    "'''  Go to the data folder and use the countries_data.py file.\n",
    "        What are the total number of languages in the data\n",
    "'''\n",
    "from countries_data import countries_info\n",
    "\n",
    "length_of_country_list = len(countries)\n",
    "print(length_of_country_list)"
   ]
  },
  {
   "cell_type": "code",
   "execution_count": 21,
   "metadata": {},
   "outputs": [
    {
     "name": "stdout",
     "output_type": "stream",
     "text": [
      "{'Pashto': 1, 'Uzbek': 2, 'Turkmen': 2, 'Swedish': 3, 'Albanian': 3, 'Arabic': 25, 'English': 91, 'Samoan': 2, 'Catalan': 1, 'Portuguese': 9, 'Russian': 9, 'Spanish': 24, 'Guaraní': 2, 'Armenian': 2, 'Dutch': 8, '(Eastern) Punjabi': 2, 'German': 7, 'Azerbaijani': 1, 'Bengali': 1, 'Belarusian': 1, 'French': 45, 'Dzongkha': 1, 'Aymara': 1, 'Quechua': 1, 'Bosnian': 2, 'Croatian': 3, 'Serbian': 4, 'Tswana': 2, 'Norwegian': 3, 'Norwegian Bokmål': 2, 'Norwegian Nynorsk': 2, 'Malay': 2, 'Bulgarian': 1, 'Fula': 2, 'Kirundi': 1, 'Khmer': 1, 'Sango': 1, 'Chinese': 5, 'Lingala': 2, 'Kongo': 1, 'Swahili': 4, 'Luba-Katanga': 1, 'Greek (modern)': 2, 'Turkish': 2, 'Czech': 1, 'Slovak': 2, 'Danish': 1, 'Tigrinya': 1, 'Estonian': 1, 'Amharic': 1, 'Faroese': 1, 'Fijian': 1, 'Hindi': 2, 'Urdu': 2, 'Finnish': 1, 'Georgian': 1, 'Kalaallisut': 1, 'Chamorro': 2, 'Haitian': 1, 'Latin': 1, 'Italian': 4, 'Hungarian': 1, 'Icelandic': 1, 'Indonesian': 1, 'Persian (Farsi)': 1, 'Kurdish': 1, 'Irish': 1, 'Manx': 1, 'Hebrew (modern)': 1, 'Japanese': 1, 'Kazakh': 1, 'Kyrgyz': 1, 'Lao': 1, 'Latvian': 1, 'Southern Sotho': 2, 'Lithuanian': 1, 'Luxembourgish': 1, 'Macedonian': 1, 'Malagasy': 1, 'Chichewa': 1, 'Malaysian': 1, 'Divehi': 1, 'Maltese': 1, 'Marshallese': 1, 'Romanian': 2, 'Mongolian': 1, 'Burmese': 1, 'Afrikaans': 2, 'Nauruan': 1, 'Nepali': 1, 'Māori': 1, 'Korean': 2, 'Polish': 1, 'Kinyarwanda': 1, 'Tamil': 2, 'Slovene': 1, 'Somali': 1, 'Southern Ndebele': 1, 'Swati': 2, 'Tsonga': 1, 'Venda': 1, 'Xhosa': 1, 'Zulu': 1, 'Sinhalese': 1, 'Tajik': 1, 'Thai': 1, 'Tonga (Tonga Islands)': 1, 'Ukrainian': 1, 'Bislama': 1, 'Vietnamese': 1, 'Shona': 1, 'Northern Ndebele': 1}\n",
      "The ten most spoken languages are:\n",
      "English: 91 countries\n",
      "French: 45 countries\n",
      "Arabic: 25 countries\n",
      "Spanish: 24 countries\n",
      "Portuguese: 9 countries\n",
      "Russian: 9 countries\n",
      "Dutch: 8 countries\n",
      "German: 7 countries\n",
      "Chinese: 5 countries\n",
      "Serbian: 4 countries\n"
     ]
    }
   ],
   "source": [
    "'''Find the ten most spoken languages from the data\n",
    "Go to the data folder and use the countries_data.py file'''\n",
    "\n",
    "from countries_data import countries_info\n",
    "\n",
    "language_count = {}\n",
    "\n",
    "# Loop through each country's data\n",
    "for country in countries_info:\n",
    "    for language in country[\"languages\"]:\n",
    "        if language in language_count:\n",
    "            language_count[language] += 1\n",
    "        else:\n",
    "            language_count[language] = 1\n",
    "print(language_count)\n",
    "    \n",
    "sorted_languages = sorted(language_count.items(), key=lambda x: x[1], reverse=True)\n",
    "\n",
    "top_10_languages = sorted_languages[:10]\n",
    "\n",
    "print(\"The ten most spoken languages are:\")\n",
    "for language, count in top_10_languages:\n",
    "    print(f\"{language}: {count} countries\")# Print the results"
   ]
  },
  {
   "cell_type": "code",
   "execution_count": 23,
   "metadata": {},
   "outputs": [
    {
     "name": "stdout",
     "output_type": "stream",
     "text": [
      "The 10 most populated countries in the world are:\n",
      "China: 1377422166 people\n",
      "India: 1295210000 people\n",
      "United States of America: 323947000 people\n",
      "Indonesia: 258705000 people\n",
      "Brazil: 206135893 people\n",
      "Pakistan: 194125062 people\n",
      "Nigeria: 186988000 people\n",
      "Bangladesh: 161006790 people\n",
      "Russian Federation: 146599183 people\n",
      "Japan: 126960000 people\n"
     ]
    }
   ],
   "source": [
    "'''Go to the data folder and use the countries_data.py file.\n",
    "Find the 10 most populated countries in the world'''\n",
    "\n",
    "from countries_data import countries_info\n",
    "\n",
    "sorted_countries = sorted(countries_info, key=lambda x: x[\"population\"], reverse=True)\n",
    "\n",
    "# Get the top 10 most populated countries\n",
    "top_10_countries = sorted_countries[:10]\n",
    "\n",
    "# Print the results\n",
    "print(\"The 10 most populated countries in the world are:\")\n",
    "for country in top_10_countries:\n",
    "    print(f\"{country['name']}: {country['population']} people\")"
   ]
  },
  {
   "cell_type": "markdown",
   "metadata": {},
   "source": [
    "### This is the end of loop exercises"
   ]
  }
 ],
 "metadata": {
  "kernelspec": {
   "display_name": "Python 3",
   "language": "python",
   "name": "python3"
  },
  "language_info": {
   "codemirror_mode": {
    "name": "ipython",
    "version": 3
   },
   "file_extension": ".py",
   "mimetype": "text/x-python",
   "name": "python",
   "nbconvert_exporter": "python",
   "pygments_lexer": "ipython3",
   "version": "3.10.12"
  }
 },
 "nbformat": 4,
 "nbformat_minor": 2
}
