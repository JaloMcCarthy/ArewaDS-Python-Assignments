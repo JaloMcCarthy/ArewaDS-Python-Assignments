{
 "cells": [
  {
   "cell_type": "markdown",
   "metadata": {},
   "source": [
    "### Exercise Level 1"
   ]
  },
  {
   "cell_type": "code",
   "execution_count": 1,
   "metadata": {},
   "outputs": [
    {
     "data": {
      "text/plain": [
       "6"
      ]
     },
     "execution_count": 1,
     "metadata": {},
     "output_type": "execute_result"
    }
   ],
   "source": [
    "# 1. Declare a function add_two_numbers. It takes two parameters and it returns a sum.\n",
    "def add_two_numbers(num1, num2):\n",
    "    return num1 + num2\n",
    "\n",
    "add_two_numbers(2,4)  "
   ]
  },
  {
   "cell_type": "code",
   "execution_count": 5,
   "metadata": {},
   "outputs": [
    {
     "data": {
      "text/plain": [
       "'The area of a circle with radius 5 is 78.55'"
      ]
     },
     "execution_count": 5,
     "metadata": {},
     "output_type": "execute_result"
    }
   ],
   "source": [
    "# 2. Area of a circle is calculated as follows: area = π x r x r. Write a function that calculates area_of_circle.\n",
    "def area_of_circle (radius):\n",
    "    pi = 3.142\n",
    "    return f'The area of a circle with radius {radius} is {pi * radius ** 2}'\n",
    "\n",
    "area_of_circle(5)"
   ]
  },
  {
   "cell_type": "code",
   "execution_count": 6,
   "metadata": {},
   "outputs": [
    {
     "data": {
      "text/plain": [
       "24"
      ]
     },
     "execution_count": 6,
     "metadata": {},
     "output_type": "execute_result"
    }
   ],
   "source": [
    "# 3. Write a function called add_all_nums which takes arbitrary number of arguments and sums all the arguments. Check if all the list items are number types. If not do give a reasonable feedback.\n",
    "def add_all_nums(*numbers):\n",
    "    for number in numbers:\n",
    "        if not isinstance(number, (int, float)):\n",
    "            return \"All arguments must be numbers.\"\n",
    "    total = sum(numbers)\n",
    "    return total\n",
    "\n",
    "add_all_nums(3,5,7,9)"
   ]
  },
  {
   "cell_type": "code",
   "execution_count": 7,
   "metadata": {},
   "outputs": [
    {
     "data": {
      "text/plain": [
       "54.0"
      ]
     },
     "execution_count": 7,
     "metadata": {},
     "output_type": "execute_result"
    }
   ],
   "source": [
    "# 4. Temperature in °C can be converted to °F using this formula: °F = (°C x 9/5) + 32. Write a function which converts °C to °F, convert_celsius_to-fahrenheit.\n",
    "def celcius_to_farenheit (degree_celcius):\n",
    "    degree_farenheit = degree_celcius * (9/5)\n",
    "    return degree_farenheit\n",
    "\n",
    "celcius_to_farenheit(30)"
   ]
  },
  {
   "cell_type": "code",
   "execution_count": 10,
   "metadata": {},
   "outputs": [
    {
     "name": "stdout",
     "output_type": "stream",
     "text": [
      "The month is September and it is Autumn season.\n"
     ]
    }
   ],
   "source": [
    "# 5. Write a function called check-season, it takes a month parameter and returns the season: Autumn, Winter, Spring or Summer.\n",
    "def check_season(month):\n",
    "    if month in [\"March\", \"April\", \"May\"]:\n",
    "        print(f\"The month is {month} and it is Spring season.\")\n",
    "    elif month in [\"June\", \"July\", \"August\"]:\n",
    "        print(f\"The month is {month} and it is Summer season.\")\n",
    "    elif month in [\"September\", \"October\", \"November\"]:\n",
    "        print(f\"The month is {month} and it is Autumn season.\")\n",
    "    elif month in [\"December\", \"January\", \"February\"]:\n",
    "        print(f\"The month is {month} and it is Winter season.\")\n",
    "    else:\n",
    "        print(f\"The input '{month}' is not a valid month.\")\n",
    "\n",
    "check_season(\"September\")  "
   ]
  },
  {
   "cell_type": "code",
   "execution_count": 8,
   "metadata": {},
   "outputs": [
    {
     "data": {
      "text/plain": [
       "2.0"
      ]
     },
     "execution_count": 8,
     "metadata": {},
     "output_type": "execute_result"
    }
   ],
   "source": [
    "# 6. Write a function called calculate_slope which return the slope of a linear equation\n",
    "def calculate_slope(x1, y1, x2, y2):\n",
    "    if x1 == x2:\n",
    "        return \"The line is vertical, so the slope is undefined.\"\n",
    "    \n",
    "    slope = (y2 - y1) / (x2 - x1)\n",
    "    return slope  \n",
    "\n",
    "calculate_slope(2,5,4,9)"
   ]
  },
  {
   "cell_type": "code",
   "execution_count": 12,
   "metadata": {},
   "outputs": [
    {
     "name": "stdout",
     "output_type": "stream",
     "text": [
      "(2.0, 1.0)\n"
     ]
    }
   ],
   "source": [
    "# 7. Quadratic equation is calculated as follows: ax² + bx + c = 0. Write a function which calculates solution set of a quadratic equation, solve_quadratic_eqn.\n",
    "def solve_quadratic_eqn(a, b, c):\n",
    "    if a == 0:\n",
    "        return \"This is not a quadratic equation, as a cannot be zero.\"\n",
    "    \n",
    "    discriminant = b**2 - 4*a*c\n",
    "\n",
    "    if discriminant > 0:\n",
    "        root1 = (-b + (discriminant ** 0.5)) / (2 * a)\n",
    "        root2 = (-b - (discriminant ** 0.5)) / (2 * a)\n",
    "        return root1, root2\n",
    "    elif discriminant == 0:\n",
    "        root = -b / (2 * a)\n",
    "        return root,\n",
    "    else:\n",
    "        return \"No real roots. The equation has complex roots.\"\n",
    "\n",
    "print(solve_quadratic_eqn(1, -3, 2))      "
   ]
  },
  {
   "cell_type": "code",
   "execution_count": 14,
   "metadata": {},
   "outputs": [
    {
     "name": "stdout",
     "output_type": "stream",
     "text": [
      "Adam\n",
      "Goni\n",
      "Musa\n",
      "Tasnim\n"
     ]
    }
   ],
   "source": [
    "# 8. Declare a function named print_list. It takes a list as a parameter and it prints out each element of the list.\n",
    "def print_list(list):\n",
    "     for element in list:\n",
    "        print(element)\n",
    "\n",
    "my_friends_list = ['Adam', 'Goni', 'Musa', 'Tasnim']\n",
    "print_list(my_friends_list)"
   ]
  },
  {
   "cell_type": "code",
   "execution_count": 16,
   "metadata": {},
   "outputs": [
    {
     "name": "stdout",
     "output_type": "stream",
     "text": [
      "[5, 4, 3, 2, 1]\n"
     ]
    }
   ],
   "source": [
    "# 9. Declare a function named reverse_list. It takes an array as a parameter and it returns the reverse of the array (use loops).\n",
    "def reverse_list(arr):\n",
    "    reversed_arr = []  \n",
    "    for i in range(len(arr) - 1, -1, -1):\n",
    "        reversed_arr.append(arr[i])      \n",
    "    return reversed_arr\n",
    "\n",
    "number_list = [1, 2, 3, 4, 5] # function call\n",
    "print(reverse_list(number_list)) \n"
   ]
  },
  {
   "cell_type": "code",
   "execution_count": 19,
   "metadata": {},
   "outputs": [
    {
     "name": "stdout",
     "output_type": "stream",
     "text": [
      "['Apple', 'Banana', 'Cherry', 'Date']\n"
     ]
    }
   ],
   "source": [
    "# 10. Declare a function named capitalize_list_items. It takes a list as a parameter and it returns a capitalized list of items\n",
    "\n",
    "def capitalize_list_items(items):\n",
    "    capitalized_items = [] \n",
    "    for item in items:\n",
    "       capitalized_items.append(item.capitalize())\n",
    "    return capitalized_items\n",
    "\n",
    "list = ['apple', 'banana', 'cherry', 'date']\n",
    "print(capitalize_list_items(list))  \n"
   ]
  },
  {
   "cell_type": "code",
   "execution_count": 20,
   "metadata": {},
   "outputs": [
    {
     "name": "stdout",
     "output_type": "stream",
     "text": [
      "['Potato', 'Tomato', 'Mango', 'Milk', 'Meat']\n"
     ]
    }
   ],
   "source": [
    "''' 11. Declare a function named add_item. It takes a list and an item parameters. It returns a list with the item added at the end.\n",
    "\n",
    "food_staff = ['Potato', 'Tomato', 'Mango', 'Milk']\n",
    "print(add_item(food_staff, 'Meat'))     # ['Potato', 'Tomato', 'Mango', 'Milk','Meat']\n",
    "numbers = [2, 3, 7, 9]\n",
    "print(add_item(numbers, 5))      [2, 3, 7, 9, 5]'''\n",
    "\n",
    "def add_item(lst, item):\n",
    "    lst.append(item)  \n",
    "    return lst\n",
    "food_stuffs = ['Potato', 'Tomato', 'Mango', 'Milk']\n",
    "print(add_item(food_stuffs, 'Meat'))  \n"
   ]
  },
  {
   "cell_type": "code",
   "execution_count": 22,
   "metadata": {},
   "outputs": [
    {
     "name": "stdout",
     "output_type": "stream",
     "text": [
      "[2, 7, 9]\n"
     ]
    }
   ],
   "source": [
    "''' 12. Declare a function named remove_item. It takes a list and an item parameters. It returns a list with the item removed from it.\n",
    "\n",
    "food_staff = ['Potato', 'Tomato', 'Mango', 'Milk']\n",
    "print(remove_item(food_staff, 'Mango'))  # ['Potato', 'Tomato', 'Milk'];\n",
    "numbers = [2, 3, 7, 9]\n",
    "print(remove_item(numbers, 3))  # [2, 7, 9]\n",
    "'''\n",
    "def remove_item(lst, item):\n",
    "    if item in lst:\n",
    "        lst.remove(item)  \n",
    "    else:\n",
    "        print(f\"Item '{item}' not found in the list.\")  \n",
    "    return lst\n",
    "\n",
    "numbers = [2, 3, 7, 9]\n",
    "print(remove_item(numbers, 3)) \n"
   ]
  },
  {
   "cell_type": "code",
   "execution_count": 27,
   "metadata": {},
   "outputs": [
    {
     "name": "stdout",
     "output_type": "stream",
     "text": [
      "15\n"
     ]
    }
   ],
   "source": [
    "''' 13. Declare a function named sum_of_numbers. It takes a number parameter and it adds all the numbers in that range.\n",
    "\n",
    "print(sum_of_numbers(5))  # 15\n",
    "print(sum_of_numbers(10)) # 55\n",
    "print(sum_of_numbers(100)) # 5050\n",
    "'''\n",
    "def sum_of_numbers(n):\n",
    "    sum = 0  \n",
    "    for i in range(1, n + 1): \n",
    "        sum += i\n",
    "    return sum\n",
    "\n",
    "print(sum_of_numbers(5))  "
   ]
  },
  {
   "cell_type": "code",
   "execution_count": 28,
   "metadata": {},
   "outputs": [
    {
     "name": "stdout",
     "output_type": "stream",
     "text": [
      "9\n"
     ]
    }
   ],
   "source": [
    "# 14. Declare a function named sum_of_odds. It takes a number parameter and it adds all the odd numbers in that range.\n",
    "def sum_of_odds(n):\n",
    "    sum = 0 \n",
    "    for i in range(1, n + 1):\n",
    "        if i % 2 != 0:  \n",
    "            sum += i\n",
    "    return sum\n",
    "\n",
    "print(sum_of_odds(5))  # Output: 9 (1 + 3 + 5)"
   ]
  },
  {
   "cell_type": "code",
   "execution_count": 29,
   "metadata": {},
   "outputs": [
    {
     "name": "stdout",
     "output_type": "stream",
     "text": [
      "6\n"
     ]
    }
   ],
   "source": [
    "# 15. Declare a function named sum_of_even. It takes a number parameter and it adds all the even numbers in that - range.\n",
    "def sum_of_even(n):\n",
    "    sum = 0  \n",
    "    for i in range(1, n + 1):\n",
    "        if i % 2 == 0:  \n",
    "            sum += i\n",
    "    return sum\n",
    "\n",
    "print(sum_of_even(5))  \n"
   ]
  },
  {
   "cell_type": "markdown",
   "metadata": {},
   "source": [
    "### Exercise Level 2"
   ]
  },
  {
   "cell_type": "code",
   "execution_count": 30,
   "metadata": {},
   "outputs": [
    {
     "name": "stdout",
     "output_type": "stream",
     "text": [
      "{'evens': 6, 'odds': 5}\n"
     ]
    }
   ],
   "source": [
    "''' 1. Declare a function named evens_and_odds . It takes a positive integer as parameter and it counts number of evens and odds in the number.\n",
    "    print(evens_and_odds(100))\n",
    "    # The number of odds are 50.\n",
    "    # The number of evens are 51.'''\n",
    "def evens_and_odds(n):\n",
    "    evens_count = 0 \n",
    "    odds_count = 0  \n",
    "    for i in range(n + 1): \n",
    "        if i % 2 == 0: \n",
    "            evens_count += 1\n",
    "        else:           \n",
    "            odds_count += 1\n",
    "\n",
    "    return {\n",
    "        \"evens\": evens_count,\n",
    "        \"odds\": odds_count\n",
    "    }\n",
    "\n",
    "print(evens_and_odds(10))"
   ]
  },
  {
   "cell_type": "code",
   "execution_count": 33,
   "metadata": {},
   "outputs": [
    {
     "name": "stdout",
     "output_type": "stream",
     "text": [
      "120\n",
      "1\n"
     ]
    }
   ],
   "source": [
    "# 2. Call your function factorial, it takes a whole number as a parameter and it return a factorial of the number\n",
    "def factorial(n):\n",
    "    if n < 0:\n",
    "        return \"Factorial is not defined for negative numbers.\"\n",
    "    elif n == 0:\n",
    "        return 1  \n",
    "    \n",
    "    result = 1\n",
    "    for i in range(1, n + 1):\n",
    "        result *= i  # Multiply the result by the current number\n",
    "    return result\n",
    "\n",
    "print(factorial(5))  \n",
    "print(factorial(0))  "
   ]
  },
  {
   "cell_type": "code",
   "execution_count": 34,
   "metadata": {},
   "outputs": [
    {
     "name": "stdout",
     "output_type": "stream",
     "text": [
      "True\n",
      "True\n",
      "False\n",
      "False\n"
     ]
    }
   ],
   "source": [
    "# 3.  Call your function is_empty, it takes a parameter and it checks if it is empty or not\n",
    "def is_empty(value):\n",
    "    return not bool(value)  \n",
    "\n",
    "print(is_empty([]))          \n",
    "print(is_empty(\"\"))          \n",
    "print(is_empty([1, 2, 3]))   \n",
    "print(is_empty(\"Hello\"))     "
   ]
  },
  {
   "cell_type": "code",
   "execution_count": 37,
   "metadata": {},
   "outputs": [
    {
     "name": "stdout",
     "output_type": "stream",
     "text": [
      "Mean: 3.4444444444444446\n",
      "Median: 4\n",
      "Mode: 4\n",
      "Range: 5\n",
      "Variance: 2.246913580246914\n",
      "Standard Deviation: 1.4989708403591158\n"
     ]
    }
   ],
   "source": [
    "# 4. Write different functions which take lists. They should calculate_mean, calculate_median, calculate_mode, calculate_range, calculate_variance, calculate_std (standard deviation).\n",
    "def calculate_mean(list):\n",
    "    return sum(list) / len(list)\n",
    "\n",
    "\n",
    "def calculate_median(list):\n",
    "    sorted_data = sorted(list)\n",
    "    n = len(sorted_data)\n",
    "    middle = n // 2\n",
    "\n",
    "    if n % 2 == 0:\n",
    "        return (sorted_data[middle - 1] + sorted_data[middle]) / 2\n",
    "    else:\n",
    "        return sorted_data[middle]\n",
    "\n",
    "\n",
    "def calculate_mode(list):\n",
    "    frequency = {}\n",
    "    for num in list:\n",
    "        frequency[num] = frequency.get(num, 0) + 1\n",
    "\n",
    "    max_count = max(frequency.values())\n",
    "    modes = [key for key, count in frequency.items() if count == max_count]\n",
    "\n",
    "    if len(modes) == 1:\n",
    "        return modes[0]\n",
    "    else:\n",
    "        return modes  \n",
    "\n",
    "\n",
    "def calculate_range(list):\n",
    "    if not list:\n",
    "        return \"The list is empty.\"\n",
    "    return max(list) - min(list)\n",
    "\n",
    "\n",
    "def calculate_variance(list):\n",
    "    if not list:\n",
    "        return \"The list is empty.\"\n",
    "    mean = calculate_mean(list)\n",
    "    return sum((x - mean) ** 2 for x in list) / len(list)\n",
    "\n",
    "\n",
    "def calculate_std(list):\n",
    "    if not list:\n",
    "        return \"The list is empty.\"\n",
    "    variance = calculate_variance(list)\n",
    "    return variance ** 0.5\n",
    "\n",
    "numbers = [1, 2, 2, 3, 4, 4, 4, 5, 6]\n",
    "\n",
    "print(\"Mean:\", calculate_mean(numbers))          # Output: 3.444...\n",
    "print(\"Median:\", calculate_median(numbers))      # Output: 4\n",
    "print(\"Mode:\", calculate_mode(numbers))          # Output: 4\n",
    "print(\"Range:\", calculate_range(numbers))        # Output: 5\n",
    "print(\"Variance:\", calculate_variance(numbers))  # Output: 2.160...\n",
    "print(\"Standard Deviation:\", calculate_std(numbers))  # Output: 1.469..."
   ]
  },
  {
   "cell_type": "markdown",
   "metadata": {},
   "source": [
    "### Exercise Level 3"
   ]
  },
  {
   "cell_type": "code",
   "execution_count": 40,
   "metadata": {},
   "outputs": [
    {
     "name": "stdout",
     "output_type": "stream",
     "text": [
      "True\n",
      "False\n"
     ]
    }
   ],
   "source": [
    "# 1. Write a function called is_prime, which checks if a number is prime.\n",
    "def is_prime(number):\n",
    "    if number <= 1:\n",
    "        return False  \n",
    "    for i in range(2, int(number ** 0.5) + 1):  \n",
    "        if number % i == 0:\n",
    "            return False  \n",
    "    return True\n",
    "\n",
    "print(is_prime(2))\n",
    "print(is_prime(10))\n",
    "    "
   ]
  },
  {
   "cell_type": "code",
   "execution_count": 42,
   "metadata": {},
   "outputs": [
    {
     "name": "stdout",
     "output_type": "stream",
     "text": [
      "True\n",
      "False\n"
     ]
    }
   ],
   "source": [
    "# 2. Write a functions which checks if all items are unique in the list.\n",
    "def are_items_unique(data):\n",
    "    return len(data) == len(set(data))\n",
    "\n",
    "print(are_items_unique([1, 2, 3, 4])) \n",
    "print(are_items_unique([1, 2, 3, 4, 4, 3])) "
   ]
  },
  {
   "cell_type": "code",
   "execution_count": 44,
   "metadata": {},
   "outputs": [
    {
     "name": "stdout",
     "output_type": "stream",
     "text": [
      "True\n",
      "False\n"
     ]
    }
   ],
   "source": [
    "# 3. Write a function which checks if all the items of the list are of the same data type.\n",
    "def are_items_same_type(data):\n",
    "    if not data:  \n",
    "        return True\n",
    "    first_type = type(data[0])  \n",
    "    return all(isinstance(item, first_type) for item in data)\n",
    "\n",
    "print(are_items_same_type([1, 2, 3, 4]))     \n",
    "print(are_items_same_type([\"a\", \"b\", 2]))  "
   ]
  },
  {
   "cell_type": "code",
   "execution_count": 45,
   "metadata": {},
   "outputs": [
    {
     "name": "stdout",
     "output_type": "stream",
     "text": [
      "True\n",
      "False\n"
     ]
    }
   ],
   "source": [
    "# 4. Write a function which check if provided variable is a valid python variable\n",
    "def is_valid_variable(name):\n",
    "    if not isinstance(name, str):\n",
    "        return False \n",
    "    \n",
    "    return name.isidentifier() and not name in __import__(\"keyword\").kwlist\n",
    "\n",
    "print(is_valid_variable(\"my_car\"))       # Output: True\n",
    "print(is_valid_variable(\"2variable\"))    # Output: False (Cannot start with a number)"
   ]
  },
  {
   "cell_type": "code",
   "execution_count": 9,
   "metadata": {},
   "outputs": [
    {
     "name": "stdout",
     "output_type": "stream",
     "text": [
      "Most Spoken Languages:\n",
      "English: 91\n",
      "French: 45\n",
      "Arabic: 25\n",
      "Spanish: 24\n",
      "Portuguese: 9\n",
      "Russian: 9\n",
      "Dutch: 8\n",
      "German: 7\n",
      "Chinese: 5\n",
      "Serbian: 4\n",
      "\n",
      "Most Populated Countries:\n",
      "China: 1377422166\n",
      "India: 1295210000\n",
      "United States of America: 323947000\n",
      "Indonesia: 258705000\n",
      "Brazil: 206135893\n",
      "Pakistan: 194125062\n",
      "Nigeria: 186988000\n",
      "Bangladesh: 161006790\n",
      "Russian Federation: 146599183\n",
      "Japan: 126960000\n"
     ]
    }
   ],
   "source": [
    "''' 5. Go to the data folder and access the countries-data.py file.\n",
    "\n",
    "    Create a function called the most_spoken_languages in the world. It should return 10 or 20 most spoken languages in the world in descending order\n",
    "    Create a function called the most_populated_countries. It should retu'''\n",
    "\n",
    "from countries_data import countries_info\n",
    "\n",
    "\n",
    "def most_spoken_languages(n):\n",
    "    language_counts = {}\n",
    "\n",
    "    for country in countries_info:\n",
    "        for language in country[\"languages\"]:  # Corrected loop to access 'languages' key\n",
    "            language_counts[language] = language_counts.get(language, 0) + 1\n",
    "\n",
    "    # Sort languages by frequency in descending order\n",
    "    sorted_languages = sorted(language_counts.items(), key=lambda x: x[1], reverse=True)\n",
    "    return sorted_languages[:n]\n",
    "\n",
    "\n",
    "def most_populated_countries(n):\n",
    "    # Sort countries by population in descending order\n",
    "    sorted_countries = sorted(countries_info, key=lambda x: x[\"population\"], reverse=True)\n",
    "    return sorted_countries[:n]\n",
    "\n",
    "\n",
    "print(\"Most Spoken Languages:\")\n",
    "for language, count in most_spoken_languages(10):\n",
    "    print(f\"{language}: {count}\")\n",
    "\n",
    "print(\"\\nMost Populated Countries:\")\n",
    "for country in most_populated_countries(10):\n",
    "    print(f\"{country['name']}: {country['population']}\")\n"
   ]
  },
  {
   "cell_type": "markdown",
   "metadata": {},
   "source": [
    "### This is the end of function exercise."
   ]
  }
 ],
 "metadata": {
  "kernelspec": {
   "display_name": "Python 3",
   "language": "python",
   "name": "python3"
  },
  "language_info": {
   "codemirror_mode": {
    "name": "ipython",
    "version": 3
   },
   "file_extension": ".py",
   "mimetype": "text/x-python",
   "name": "python",
   "nbconvert_exporter": "python",
   "pygments_lexer": "ipython3",
   "version": "3.10.12"
  }
 },
 "nbformat": 4,
 "nbformat_minor": 2
}
