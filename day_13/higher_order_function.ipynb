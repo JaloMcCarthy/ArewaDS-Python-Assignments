{
 "cells": [
  {
   "cell_type": "code",
   "execution_count": null,
   "metadata": {},
   "outputs": [],
   "source": [
    "countries = ['Estonia', 'Finland', 'Sweden', 'Denmark', 'Norway', 'Iceland']\n",
    "names = ['Asabeneh', 'Lidiya', 'Ermias', 'Abraham']\n",
    "numbers = [1, 2, 3, 4, 5, 6, 7, 8, 9, 10]"
   ]
  },
  {
   "cell_type": "markdown",
   "metadata": {},
   "source": [
    "### Exercise level 1"
   ]
  },
  {
   "cell_type": "markdown",
   "metadata": {},
   "source": [
    "#### 1. Explain the difference between map, filter, and reduce.\n",
    "\n",
    "+ map:\n",
    "map applies a function to each element of a given iterable (like a list) and returns a new iterable with the results.\n",
    "Example: Double each number in a list."
   ]
  },
  {
   "cell_type": "code",
   "execution_count": 2,
   "metadata": {},
   "outputs": [
    {
     "name": "stdout",
     "output_type": "stream",
     "text": [
      "[2, 4, 6, 8]\n"
     ]
    }
   ],
   "source": [
    "numbers = [1, 2, 3, 4]\n",
    "doubled = list(map(lambda x: x * 2, numbers))\n",
    "print(doubled)  # Output: [2, 4, 6, 8]"
   ]
  },
  {
   "cell_type": "markdown",
   "metadata": {},
   "source": [
    "+ filter:\n",
    "Filter applies a function to each element of an iterable and returns only those elements for which the function returns True."
   ]
  },
  {
   "cell_type": "code",
   "execution_count": 3,
   "metadata": {},
   "outputs": [
    {
     "name": "stdout",
     "output_type": "stream",
     "text": [
      "[2, 4]\n"
     ]
    }
   ],
   "source": [
    "numbers = [1, 2, 3, 4]\n",
    "evens = list(filter(lambda x: x % 2 == 0, numbers))\n",
    "print(evens)  # Output: [2, 4]"
   ]
  },
  {
   "cell_type": "markdown",
   "metadata": {},
   "source": [
    "+ reduce:\n",
    "reduce applies a function cumulatively to the elements of an iterable, reducing it to a single value."
   ]
  },
  {
   "cell_type": "code",
   "execution_count": 5,
   "metadata": {},
   "outputs": [
    {
     "name": "stdout",
     "output_type": "stream",
     "text": [
      "10\n"
     ]
    }
   ],
   "source": [
    "from functools import reduce\n",
    "numbers = [1, 2, 3, 4]\n",
    "total = reduce(lambda x, y: x + y, numbers)\n",
    "print(total)  # Output: 10"
   ]
  },
  {
   "cell_type": "markdown",
   "metadata": {},
   "source": [
    "####  2.  Explain the difference between higher order function, closure and decorator"
   ]
  },
  {
   "cell_type": "markdown",
   "metadata": {},
   "source": [
    "+ Higher-order function:\n",
    "    A function that either takes another function as an argument or returns a function as its result."
   ]
  },
  {
   "cell_type": "code",
   "execution_count": 8,
   "metadata": {},
   "outputs": [
    {
     "name": "stdout",
     "output_type": "stream",
     "text": [
      "12\n"
     ]
    }
   ],
   "source": [
    "def apply_twice(func, x):\n",
    "    return func(func(x))\n",
    "\n",
    "print(apply_twice(lambda x: x * 2, 3)) "
   ]
  },
  {
   "cell_type": "markdown",
   "metadata": {},
   "source": [
    "+ Closure:\n",
    "A function that \"remembers\" the variables from its enclosing scope even after the outer function has finished execution."
   ]
  },
  {
   "cell_type": "code",
   "execution_count": 7,
   "metadata": {},
   "outputs": [
    {
     "name": "stdout",
     "output_type": "stream",
     "text": [
      "15\n"
     ]
    }
   ],
   "source": [
    "def outer_function(x):\n",
    "    def inner_function(y):\n",
    "        return x + y\n",
    "    return inner_function\n",
    "\n",
    "add_five = outer_function(5)\n",
    "print(add_five(10)) "
   ]
  },
  {
   "cell_type": "markdown",
   "metadata": {},
   "source": [
    "+ Decorator:\n",
    "A special type of higher-order function that modifies the behavior of another function."
   ]
  },
  {
   "cell_type": "code",
   "execution_count": 9,
   "metadata": {},
   "outputs": [
    {
     "name": "stdout",
     "output_type": "stream",
     "text": [
      "Before the function\n",
      "Hello!\n",
      "After the function\n"
     ]
    }
   ],
   "source": [
    "def decorator(func):\n",
    "    def wrapper():\n",
    "        print(\"Before the function\")\n",
    "        func()\n",
    "        print(\"After the function\")\n",
    "    return wrapper\n",
    "\n",
    "@decorator\n",
    "def say_hello():\n",
    "    print(\"Hello!\")\n",
    "\n",
    "say_hello()"
   ]
  },
  {
   "cell_type": "markdown",
   "metadata": {},
   "source": [
    "#### 3. Define a call function before map, filter or reduce, see examples."
   ]
  },
  {
   "cell_type": "code",
   "execution_count": 10,
   "metadata": {},
   "outputs": [
    {
     "name": "stdout",
     "output_type": "stream",
     "text": [
      "[1, 4, 9, 16]\n"
     ]
    }
   ],
   "source": [
    "def square(x):\n",
    "    return x * x\n",
    "\n",
    "numbers = [1, 2, 3, 4]\n",
    "squared = list(map(square, numbers))\n",
    "print(squared)  # Output: [1, 4, 9, 16]\n"
   ]
  },
  {
   "cell_type": "markdown",
   "metadata": {},
   "source": [
    "#### 4. Use for loop to print each country in the countries list."
   ]
  },
  {
   "cell_type": "code",
   "execution_count": 11,
   "metadata": {},
   "outputs": [
    {
     "name": "stdout",
     "output_type": "stream",
     "text": [
      "Estonia\n",
      "Finland\n",
      "Sweden\n",
      "Denmark\n",
      "Norway\n",
      "Iceland\n"
     ]
    }
   ],
   "source": [
    "countries = ['Estonia', 'Finland', 'Sweden', 'Denmark', 'Norway', 'Iceland']\n",
    "for country in countries:\n",
    "    print(country)\n"
   ]
  },
  {
   "cell_type": "markdown",
   "metadata": {},
   "source": [
    "#### 5. Use for to print each name in the names list."
   ]
  },
  {
   "cell_type": "code",
   "execution_count": 12,
   "metadata": {},
   "outputs": [
    {
     "name": "stdout",
     "output_type": "stream",
     "text": [
      "Asabeneh\n",
      "Lidiya\n",
      "Ermias\n",
      "Abraham\n"
     ]
    }
   ],
   "source": [
    "names = ['Asabeneh', 'Lidiya', 'Ermias', 'Abraham']\n",
    "for name in names:\n",
    "    print(name)"
   ]
  },
  {
   "cell_type": "markdown",
   "metadata": {},
   "source": [
    "#### 6. Use for to print each number in the numbers list."
   ]
  },
  {
   "cell_type": "code",
   "execution_count": 13,
   "metadata": {},
   "outputs": [
    {
     "name": "stdout",
     "output_type": "stream",
     "text": [
      "1\n",
      "2\n",
      "3\n",
      "4\n",
      "5\n",
      "6\n",
      "7\n",
      "8\n",
      "9\n",
      "10\n"
     ]
    }
   ],
   "source": [
    "numbers = [1, 2, 3, 4, 5, 6, 7, 8, 9, 10]\n",
    "for number in numbers:\n",
    "    print(number)\n"
   ]
  },
  {
   "cell_type": "markdown",
   "metadata": {},
   "source": [
    "### Exercise level 2"
   ]
  },
  {
   "cell_type": "markdown",
   "metadata": {},
   "source": [
    "\n",
    "#### 1. Use map to create a new list by changing each country to uppercase in the countries list\n",
    "    "
   ]
  },
  {
   "cell_type": "code",
   "execution_count": 37,
   "metadata": {},
   "outputs": [
    {
     "name": "stdout",
     "output_type": "stream",
     "text": [
      "['ESTONIA', 'FINLAND', 'SWEDEN', 'DENMARK', 'NORWAY', 'ICELAND']\n"
     ]
    }
   ],
   "source": [
    "countries = ['Estonia', 'Finland', 'Sweden', 'Denmark', 'Norway', 'Iceland']\n",
    "countries_upper = list(map(str.upper, countries))\n",
    "print(countries_upper)"
   ]
  },
  {
   "cell_type": "markdown",
   "metadata": {},
   "source": [
    "#### 2. Use map to create a new list by changing each number to its square in the numbers list"
   ]
  },
  {
   "cell_type": "code",
   "execution_count": 38,
   "metadata": {},
   "outputs": [
    {
     "name": "stdout",
     "output_type": "stream",
     "text": [
      "[1, 4, 9, 16, 25, 36, 49, 64, 81, 100]\n"
     ]
    }
   ],
   "source": [
    "numbers = [1, 2, 3, 4, 5, 6, 7, 8, 9, 10]\n",
    "squares = list(map(lambda x: x ** 2, numbers))\n",
    "print(squares)"
   ]
  },
  {
   "cell_type": "markdown",
   "metadata": {},
   "source": [
    "#### 3. Use map to change each name to uppercase in the names list"
   ]
  },
  {
   "cell_type": "code",
   "execution_count": 39,
   "metadata": {},
   "outputs": [
    {
     "name": "stdout",
     "output_type": "stream",
     "text": [
      "['ASABENEH', 'LIDIYA', 'ERMIAS', 'ABRAHAM']\n"
     ]
    }
   ],
   "source": [
    "names = ['Asabeneh', 'Lidiya', 'Ermias', 'Abraham']\n",
    "names_upper = list(map(str.upper, names))\n",
    "print(names_upper)"
   ]
  },
  {
   "cell_type": "markdown",
   "metadata": {},
   "source": [
    "####  4. Use filter to filter out countries containing 'land'."
   ]
  },
  {
   "cell_type": "code",
   "execution_count": 40,
   "metadata": {},
   "outputs": [
    {
     "name": "stdout",
     "output_type": "stream",
     "text": [
      "['Finland', 'Iceland']\n"
     ]
    }
   ],
   "source": [
    "countries_with_land = list(filter(lambda x: 'land' in x, countries))\n",
    "print(countries_with_land)"
   ]
  },
  {
   "cell_type": "markdown",
   "metadata": {},
   "source": [
    "#### 5. Use filter to filter out countries having exactly six characters."
   ]
  },
  {
   "cell_type": "code",
   "execution_count": 41,
   "metadata": {},
   "outputs": [
    {
     "name": "stdout",
     "output_type": "stream",
     "text": [
      "['Sweden', 'Norway']\n"
     ]
    }
   ],
   "source": [
    "countries_six_chars = list(filter(lambda x: len(x) == 6, countries))\n",
    "print(countries_six_chars)"
   ]
  },
  {
   "cell_type": "markdown",
   "metadata": {},
   "source": [
    "#### 6. Use filter to filter out countries containing six letters and more in the country list."
   ]
  },
  {
   "cell_type": "code",
   "execution_count": 36,
   "metadata": {},
   "outputs": [
    {
     "name": "stdout",
     "output_type": "stream",
     "text": [
      "['Estonia', 'Finland', 'Sweden', 'Denmark', 'Norway', 'Iceland']\n"
     ]
    }
   ],
   "source": [
    "countries_six_or_more = list(filter(lambda x: len(x) >= 6, countries))\n",
    "print(countries_six_or_more)"
   ]
  },
  {
   "cell_type": "markdown",
   "metadata": {},
   "source": [
    "####  7. Use filter to filter out countries starting with an 'E'"
   ]
  },
  {
   "cell_type": "code",
   "execution_count": 35,
   "metadata": {},
   "outputs": [
    {
     "name": "stdout",
     "output_type": "stream",
     "text": [
      "['Estonia']\n"
     ]
    }
   ],
   "source": [
    "countries_starting_e = list(filter(lambda x: x.startswith('E'), countries))\n",
    "print(countries_starting_e)"
   ]
  },
  {
   "cell_type": "markdown",
   "metadata": {},
   "source": [
    "####  8. Chain two or more list iterators (eg. arr.map(callback).filter(callback).reduce(callback))"
   ]
  },
  {
   "cell_type": "code",
   "execution_count": 34,
   "metadata": {},
   "outputs": [
    {
     "name": "stdout",
     "output_type": "stream",
     "text": [
      "[64, 81, 100]\n"
     ]
    }
   ],
   "source": [
    "result = list(filter(lambda x: x > 50, map(lambda x: x ** 2, numbers)))\n",
    "print(result)"
   ]
  },
  {
   "cell_type": "markdown",
   "metadata": {},
   "source": [
    "#### 9. Declare a function called get_string_lists which takes a list as a parameter and then returns a list containing only string items."
   ]
  },
  {
   "cell_type": "code",
   "execution_count": 26,
   "metadata": {},
   "outputs": [
    {
     "name": "stdout",
     "output_type": "stream",
     "text": [
      "['Hello', 'World']\n"
     ]
    }
   ],
   "source": [
    "def get_string_lists(lst):\n",
    "    return list(filter(lambda x: isinstance(x, str), lst))\n",
    "\n",
    "mixed_list = [1, 'Hello', 2.5, 'World', True]\n",
    "print(get_string_lists(mixed_list))"
   ]
  },
  {
   "cell_type": "markdown",
   "metadata": {},
   "source": [
    "####  10. Use reduce to sum all the numbers in the numbers list."
   ]
  },
  {
   "cell_type": "code",
   "execution_count": 33,
   "metadata": {},
   "outputs": [
    {
     "name": "stdout",
     "output_type": "stream",
     "text": [
      "55\n"
     ]
    }
   ],
   "source": [
    "from functools import reduce\n",
    "\n",
    "sum_numbers = reduce(lambda x, y: x + y, numbers)\n",
    "print(sum_numbers)"
   ]
  },
  {
   "cell_type": "markdown",
   "metadata": {},
   "source": [
    "#### 11. Use reduce to concatenate all the countries and to produce this sentence: Estonia, Finland, Sweden, Denmark, Norway, and Iceland are north European countries"
   ]
  },
  {
   "cell_type": "code",
   "execution_count": 32,
   "metadata": {},
   "outputs": [
    {
     "name": "stdout",
     "output_type": "stream",
     "text": [
      "Estonia, Finland, Sweden, Denmark, Norway, and Iceland are north European countries.\n"
     ]
    }
   ],
   "source": [
    "sentence = reduce(lambda x, y: f\"{x}, {y}\", countries[:-1]) + f\", and {countries[-1]} are north European countries.\"\n",
    "print(sentence)"
   ]
  },
  {
   "cell_type": "markdown",
   "metadata": {},
   "source": [
    "#### 12. Declare a function called categorize_countries that returns a list of countries with some common pattern (you can find the countries list in this repository as countries.js(eg 'land', 'ia', 'island', 'stan'))."
   ]
  },
  {
   "cell_type": "code",
   "execution_count": 27,
   "metadata": {},
   "outputs": [
    {
     "name": "stdout",
     "output_type": "stream",
     "text": [
      "['Finland', 'Iceland']\n"
     ]
    }
   ],
   "source": [
    "def categorize_countries(pattern):\n",
    "    return list(filter(lambda x: pattern in x, countries))\n",
    "\n",
    "print(categorize_countries('land'))"
   ]
  },
  {
   "cell_type": "markdown",
   "metadata": {},
   "source": [
    "#### 13. Create a function returning a dictionary, where keys stand for starting letters of countries and values are the number of country names starting with that letter."
   ]
  },
  {
   "cell_type": "code",
   "execution_count": 28,
   "metadata": {},
   "outputs": [
    {
     "name": "stdout",
     "output_type": "stream",
     "text": [
      "{'E': 1, 'F': 1, 'S': 1, 'D': 1, 'N': 1, 'I': 1}\n"
     ]
    }
   ],
   "source": [
    "def countries_by_starting_letter(countries):\n",
    "    result = {}\n",
    "    for country in countries:\n",
    "        letter = country[0]\n",
    "        result[letter] = result.get(letter, 0) + 1\n",
    "    return result\n",
    "\n",
    "print(countries_by_starting_letter(countries))"
   ]
  },
  {
   "cell_type": "markdown",
   "metadata": {},
   "source": [
    "#### 14. Declare a get_first_ten_countries function - it returns a list of first ten countries from the countries.js list in the data folder."
   ]
  },
  {
   "cell_type": "code",
   "execution_count": 31,
   "metadata": {},
   "outputs": [
    {
     "name": "stdout",
     "output_type": "stream",
     "text": [
      "['Estonia', 'Finland', 'Sweden', 'Denmark', 'Norway', 'Iceland']\n"
     ]
    }
   ],
   "source": [
    "def get_first_ten_countries(countries):\n",
    "    return countries[:10]\n",
    "\n",
    "print(get_first_ten_countries(countries))"
   ]
  },
  {
   "cell_type": "markdown",
   "metadata": {},
   "source": [
    "####  15. Declare a get_last_ten_countries function that returns the last ten countries in the countries list."
   ]
  },
  {
   "cell_type": "code",
   "execution_count": 30,
   "metadata": {},
   "outputs": [
    {
     "name": "stdout",
     "output_type": "stream",
     "text": [
      "['Estonia', 'Finland', 'Sweden', 'Denmark', 'Norway', 'Iceland']\n"
     ]
    }
   ],
   "source": [
    "def get_last_ten_countries(countries):\n",
    "    return countries[-10:]\n",
    "\n",
    "print(get_last_ten_countries(countries))"
   ]
  },
  {
   "cell_type": "markdown",
   "metadata": {},
   "source": [
    "### Exercise level 3"
   ]
  },
  {
   "cell_type": "markdown",
   "metadata": {},
   "source": [
    "#### 1. Use the countries_data.py (https://github.com/Asabeneh/30-Days-Of-Python/blob/master/data/countries-data.py) file and follow the tasks below:"
   ]
  },
  {
   "cell_type": "markdown",
   "metadata": {},
   "source": [
    "+ Sort countries by name, by capital, by population"
   ]
  },
  {
   "cell_type": "code",
   "execution_count": 46,
   "metadata": {},
   "outputs": [
    {
     "name": "stdout",
     "output_type": "stream",
     "text": [
      "Countries sorted by name:\n",
      "Afghanistan\n",
      "Albania\n",
      "Algeria\n",
      "American Samoa\n",
      "Andorra\n",
      "Angola\n",
      "Anguilla\n",
      "Antarctica\n",
      "Antigua and Barbuda\n",
      "Argentina\n",
      "Armenia\n",
      "Aruba\n",
      "Australia\n",
      "Austria\n",
      "Azerbaijan\n",
      "Bahamas\n",
      "Bahrain\n",
      "Bangladesh\n",
      "Barbados\n",
      "Belarus\n",
      "Belgium\n",
      "Belize\n",
      "Benin\n",
      "Bermuda\n",
      "Bhutan\n",
      "Bolivia (Plurinational State of)\n",
      "Bonaire, Sint Eustatius and Saba\n",
      "Bosnia and Herzegovina\n",
      "Botswana\n",
      "Bouvet Island\n",
      "Brazil\n",
      "British Indian Ocean Territory\n",
      "Brunei Darussalam\n",
      "Bulgaria\n",
      "Burkina Faso\n",
      "Burundi\n",
      "Cabo Verde\n",
      "Cambodia\n",
      "Cameroon\n",
      "Canada\n",
      "Cayman Islands\n",
      "Central African Republic\n",
      "Chad\n",
      "Chile\n",
      "China\n",
      "Christmas Island\n",
      "Cocos (Keeling) Islands\n",
      "Colombia\n",
      "Comoros\n",
      "Congo\n",
      "Congo (Democratic Republic of the)\n",
      "Cook Islands\n",
      "Costa Rica\n",
      "Croatia\n",
      "Cuba\n",
      "Curaçao\n",
      "Cyprus\n",
      "Czech Republic\n",
      "Côte d'Ivoire\n",
      "Denmark\n",
      "Djibouti\n",
      "Dominica\n",
      "Dominican Republic\n",
      "Ecuador\n",
      "Egypt\n",
      "El Salvador\n",
      "Equatorial Guinea\n",
      "Eritrea\n",
      "Estonia\n",
      "Ethiopia\n",
      "Falkland Islands (Malvinas)\n",
      "Faroe Islands\n",
      "Fiji\n",
      "Finland\n",
      "France\n",
      "French Guiana\n",
      "French Polynesia\n",
      "French Southern Territories\n",
      "Gabon\n",
      "Gambia\n",
      "Georgia\n",
      "Germany\n",
      "Ghana\n",
      "Gibraltar\n",
      "Greece\n",
      "Greenland\n",
      "Grenada\n",
      "Guadeloupe\n",
      "Guam\n",
      "Guatemala\n",
      "Guernsey\n",
      "Guinea\n",
      "Guinea-Bissau\n",
      "Guyana\n",
      "Haiti\n",
      "Heard Island and McDonald Islands\n",
      "Holy See\n",
      "Honduras\n",
      "Hong Kong\n",
      "Hungary\n",
      "Iceland\n",
      "India\n",
      "Indonesia\n",
      "Iran (Islamic Republic of)\n",
      "Iraq\n",
      "Ireland\n",
      "Isle of Man\n",
      "Israel\n",
      "Italy\n",
      "Jamaica\n",
      "Japan\n",
      "Jersey\n",
      "Jordan\n",
      "Kazakhstan\n",
      "Kenya\n",
      "Kiribati\n",
      "Korea (Democratic People's Republic of)\n",
      "Korea (Republic of)\n",
      "Kuwait\n",
      "Kyrgyzstan\n",
      "Lao People's Democratic Republic\n",
      "Latvia\n",
      "Lebanon\n",
      "Lesotho\n",
      "Liberia\n",
      "Libya\n",
      "Liechtenstein\n",
      "Lithuania\n",
      "Luxembourg\n",
      "Macao\n",
      "Macedonia (the former Yugoslav Republic of)\n",
      "Madagascar\n",
      "Malawi\n",
      "Malaysia\n",
      "Maldives\n",
      "Mali\n",
      "Malta\n",
      "Marshall Islands\n",
      "Martinique\n",
      "Mauritania\n",
      "Mauritius\n",
      "Mayotte\n",
      "Mexico\n",
      "Micronesia (Federated States of)\n",
      "Moldova (Republic of)\n",
      "Monaco\n",
      "Mongolia\n",
      "Montenegro\n",
      "Montserrat\n",
      "Morocco\n",
      "Mozambique\n",
      "Myanmar\n",
      "Namibia\n",
      "Nauru\n",
      "Nepal\n",
      "Netherlands\n",
      "New Caledonia\n",
      "New Zealand\n",
      "Nicaragua\n",
      "Niger\n",
      "Nigeria\n",
      "Niue\n",
      "Norfolk Island\n",
      "Northern Mariana Islands\n",
      "Norway\n",
      "Oman\n",
      "Pakistan\n",
      "Palau\n",
      "Palestine, State of\n",
      "Panama\n",
      "Papua New Guinea\n",
      "Paraguay\n",
      "Peru\n",
      "Philippines\n",
      "Pitcairn\n",
      "Poland\n",
      "Portugal\n",
      "Puerto Rico\n",
      "Qatar\n",
      "Republic of Kosovo\n",
      "Romania\n",
      "Russian Federation\n",
      "Rwanda\n",
      "Réunion\n",
      "Saint Barthélemy\n",
      "Saint Helena, Ascension and Tristan da Cunha\n",
      "Saint Kitts and Nevis\n",
      "Saint Lucia\n",
      "Saint Martin (French part)\n",
      "Saint Pierre and Miquelon\n",
      "Saint Vincent and the Grenadines\n",
      "Samoa\n",
      "San Marino\n",
      "Sao Tome and Principe\n",
      "Saudi Arabia\n",
      "Senegal\n",
      "Serbia\n",
      "Seychelles\n",
      "Sierra Leone\n",
      "Singapore\n",
      "Sint Maarten (Dutch part)\n",
      "Slovakia\n",
      "Slovenia\n",
      "Solomon Islands\n",
      "Somalia\n",
      "South Africa\n",
      "South Georgia and the South Sandwich Islands\n",
      "South Sudan\n",
      "Spain\n",
      "Sri Lanka\n",
      "Sudan\n",
      "Suriname\n",
      "Svalbard and Jan Mayen\n",
      "Swaziland\n",
      "Sweden\n",
      "Switzerland\n",
      "Syrian Arab Republic\n",
      "Taiwan\n",
      "Tajikistan\n",
      "Tanzania, United Republic of\n",
      "Thailand\n",
      "Timor-Leste\n",
      "Togo\n",
      "Tokelau\n",
      "Tonga\n",
      "Trinidad and Tobago\n",
      "Tunisia\n",
      "Turkey\n",
      "Turkmenistan\n",
      "Turks and Caicos Islands\n",
      "Tuvalu\n",
      "Uganda\n",
      "Ukraine\n",
      "United Arab Emirates\n",
      "United Kingdom of Great Britain and Northern Ireland\n",
      "United States Minor Outlying Islands\n",
      "United States of America\n",
      "Uruguay\n",
      "Uzbekistan\n",
      "Vanuatu\n",
      "Venezuela (Bolivarian Republic of)\n",
      "Viet Nam\n",
      "Virgin Islands (British)\n",
      "Virgin Islands (U.S.)\n",
      "Wallis and Futuna\n",
      "Western Sahara\n",
      "Yemen\n",
      "Zambia\n",
      "Zimbabwe\n",
      "Åland Islands\n",
      "\n",
      "Countries sorted by capital:\n",
      "\n",
      "\n",
      "\n",
      "\n",
      "\n",
      "Abu Dhabi\n",
      "Abuja\n",
      "Accra\n",
      "Adamstown\n",
      "Addis Ababa\n",
      "Algiers\n",
      "Alofi\n",
      "Amman\n",
      "Amsterdam\n",
      "Andorra la Vella\n",
      "Ankara\n",
      "Antananarivo\n",
      "Apia\n",
      "Ashgabat\n",
      "Asmara\n",
      "Astana\n",
      "Asunción\n",
      "Athens\n",
      "Avarua\n",
      "Baghdad\n",
      "Baku\n",
      "Bamako\n",
      "Bandar Seri Begawan\n",
      "Bangkok\n",
      "Bangui\n",
      "Banjul\n",
      "Basse-Terre\n",
      "Basseterre\n",
      "Beijing\n",
      "Beirut\n",
      "Belgrade\n",
      "Belmopan\n",
      "Berlin\n",
      "Bern\n",
      "Bishkek\n",
      "Bissau\n",
      "Bogotá\n",
      "Brasília\n",
      "Bratislava\n",
      "Brazzaville\n",
      "Bridgetown\n",
      "Brussels\n",
      "Bucharest\n",
      "Budapest\n",
      "Buenos Aires\n",
      "Bujumbura\n",
      "Cairo\n",
      "Canberra\n",
      "Caracas\n",
      "Castries\n",
      "Cayenne\n",
      "Charlotte Amalie\n",
      "Chișinău\n",
      "City of San Marino\n",
      "City of Victoria\n",
      "Cockburn Town\n",
      "Colombo\n",
      "Conakry\n",
      "Copenhagen\n",
      "Dakar\n",
      "Damascus\n",
      "Dhaka\n",
      "Diego Garcia\n",
      "Dili\n",
      "Djibouti\n",
      "Dodoma\n",
      "Doha\n",
      "Douglas\n",
      "Dublin\n",
      "Dushanbe\n",
      "El Aaiún\n",
      "Fakaofo\n",
      "Flying Fish Cove\n",
      "Fort-de-France\n",
      "Freetown\n",
      "Funafuti\n",
      "Gaborone\n",
      "George Town\n",
      "Georgetown\n",
      "Gibraltar\n",
      "Guatemala City\n",
      "Gustavia\n",
      "Hagåtña\n",
      "Hamilton\n",
      "Hanoi\n",
      "Harare\n",
      "Havana\n",
      "Helsinki\n",
      "Honiara\n",
      "Islamabad\n",
      "Jakarta\n",
      "Jamestown\n",
      "Jerusalem\n",
      "Juba\n",
      "Kabul\n",
      "Kampala\n",
      "Kathmandu\n",
      "Khartoum\n",
      "Kiev\n",
      "Kigali\n",
      "King Edward Point\n",
      "Kingston\n",
      "Kingston\n",
      "Kingstown\n",
      "Kinshasa\n",
      "Kralendijk\n",
      "Kuala Lumpur\n",
      "Kuwait City\n",
      "Libreville\n",
      "Lilongwe\n",
      "Lima\n",
      "Lisbon\n",
      "Ljubljana\n",
      "Lobamba\n",
      "Lomé\n",
      "London\n",
      "Longyearbyen\n",
      "Luanda\n",
      "Lusaka\n",
      "Luxembourg\n",
      "Madrid\n",
      "Majuro\n",
      "Malabo\n",
      "Malé\n",
      "Mamoudzou\n",
      "Managua\n",
      "Manama\n",
      "Manila\n",
      "Maputo\n",
      "Mariehamn\n",
      "Marigot\n",
      "Maseru\n",
      "Mata-Utu\n",
      "Mexico City\n",
      "Minsk\n",
      "Mogadishu\n",
      "Monaco\n",
      "Monrovia\n",
      "Montevideo\n",
      "Moroni\n",
      "Moscow\n",
      "Muscat\n",
      "N'Djamena\n",
      "Nairobi\n",
      "Nassau\n",
      "Naypyidaw\n",
      "New Delhi\n",
      "Ngerulmud\n",
      "Niamey\n",
      "Nicosia\n",
      "Nouakchott\n",
      "Nouméa\n",
      "Nuku'alofa\n",
      "Nuuk\n",
      "Oranjestad\n",
      "Oslo\n",
      "Ottawa\n",
      "Ouagadougou\n",
      "Pago Pago\n",
      "Palikir\n",
      "Panama City\n",
      "Papeetē\n",
      "Paramaribo\n",
      "Paris\n",
      "Philipsburg\n",
      "Phnom Penh\n",
      "Plymouth\n",
      "Podgorica\n",
      "Port Louis\n",
      "Port Moresby\n",
      "Port Vila\n",
      "Port of Spain\n",
      "Port-au-Prince\n",
      "Port-aux-Français\n",
      "Porto-Novo\n",
      "Prague\n",
      "Praia\n",
      "Pretoria\n",
      "Pristina\n",
      "Pyongyang\n",
      "Quito\n",
      "Rabat\n",
      "Ramallah\n",
      "Reykjavík\n",
      "Riga\n",
      "Riyadh\n",
      "Road Town\n",
      "Rome\n",
      "Rome\n",
      "Roseau\n",
      "Saint Helier\n",
      "Saint John's\n",
      "Saint-Denis\n",
      "Saint-Pierre\n",
      "Saipan\n",
      "San José\n",
      "San Juan\n",
      "San Salvador\n",
      "Sana'a\n",
      "Santiago\n",
      "Santo Domingo\n",
      "Sarajevo\n",
      "Seoul\n",
      "Singapore\n",
      "Skopje\n",
      "Sofia\n",
      "South Tarawa\n",
      "St. George's\n",
      "St. Peter Port\n",
      "Stanley\n",
      "Stockholm\n",
      "Sucre\n",
      "Suva\n",
      "São Tomé\n",
      "Taipei\n",
      "Tallinn\n",
      "Tashkent\n",
      "Tbilisi\n",
      "Tegucigalpa\n",
      "Tehran\n",
      "The Valley\n",
      "Thimphu\n",
      "Tirana\n",
      "Tokyo\n",
      "Tripoli\n",
      "Tunis\n",
      "Tórshavn\n",
      "Ulan Bator\n",
      "Vaduz\n",
      "Valletta\n",
      "Victoria\n",
      "Vienna\n",
      "Vientiane\n",
      "Vilnius\n",
      "Warsaw\n",
      "Washington, D.C.\n",
      "Wellington\n",
      "West Island\n",
      "Willemstad\n",
      "Windhoek\n",
      "Yamoussoukro\n",
      "Yaoundé\n",
      "Yaren\n",
      "Yerevan\n",
      "Zagreb\n",
      "\n",
      "Countries sorted by population:\n",
      "China: 1377422166\n",
      "India: 1295210000\n",
      "United States of America: 323947000\n",
      "Indonesia: 258705000\n",
      "Brazil: 206135893\n",
      "Pakistan: 194125062\n",
      "Nigeria: 186988000\n",
      "Bangladesh: 161006790\n",
      "Russian Federation: 146599183\n",
      "Japan: 126960000\n"
     ]
    }
   ],
   "source": [
    "from countries_data import countries_info\n",
    "\n",
    "sorted_by_name = sorted(countries_info, key=lambda x: x['name'])\n",
    "print(\"Countries sorted by name:\")\n",
    "for country in sorted_by_name:\n",
    "    print(country['name'])\n",
    "\n",
    "sorted_by_capital = sorted(countries_info, key=lambda x: x['capital'])\n",
    "print(\"\\nCountries sorted by capital:\")\n",
    "for country in sorted_by_capital:\n",
    "    print(country['capital'])\n",
    "\n",
    "sorted_by_population = sorted(countries_info, key=lambda x: x['population'], reverse=True)\n",
    "print(\"\\nCountries sorted by population:\")\n",
    "for country in sorted_by_population[:10]:\n",
    "    print(f\"{country['name']}: {country['population']}\")\n"
   ]
  },
  {
   "cell_type": "markdown",
   "metadata": {},
   "source": [
    "+ Sort out the ten most spoken languages by location.\n"
   ]
  },
  {
   "cell_type": "code",
   "execution_count": 47,
   "metadata": {},
   "outputs": [
    {
     "name": "stdout",
     "output_type": "stream",
     "text": [
      "\n",
      "Ten most spoken languages:\n",
      "English: 91 countries\n",
      "French: 45 countries\n",
      "Arabic: 25 countries\n",
      "Spanish: 24 countries\n",
      "Portuguese: 9 countries\n",
      "Russian: 9 countries\n",
      "Dutch: 8 countries\n",
      "German: 7 countries\n",
      "Chinese: 5 countries\n",
      "Serbian: 4 countries\n"
     ]
    }
   ],
   "source": [
    "language_counts = {}\n",
    "\n",
    "for country in countries_info:\n",
    "    for language in country['languages']:\n",
    "        language_counts[language] = language_counts.get(language, 0) + 1\n",
    "\n",
    "most_spoken_languages = sorted(language_counts.items(), key=lambda x: x[1], reverse=True)\n",
    "\n",
    "print(\"\\nTen most spoken languages:\")\n",
    "for language, count in most_spoken_languages[:10]:\n",
    "    print(f\"{language}: {count} countries\")\n"
   ]
  },
  {
   "cell_type": "markdown",
   "metadata": {},
   "source": [
    "+   Sort out the ten most populated countries."
   ]
  },
  {
   "cell_type": "code",
   "execution_count": 49,
   "metadata": {},
   "outputs": [
    {
     "name": "stdout",
     "output_type": "stream",
     "text": [
      "\n",
      "Ten most populated countries:\n",
      "China: 1377422166\n",
      "India: 1295210000\n",
      "United States of America: 323947000\n",
      "Indonesia: 258705000\n",
      "Brazil: 206135893\n",
      "Pakistan: 194125062\n",
      "Nigeria: 186988000\n",
      "Bangladesh: 161006790\n",
      "Russian Federation: 146599183\n",
      "Japan: 126960000\n"
     ]
    }
   ],
   "source": [
    "most_populated_countries = sorted(countries_info, key=lambda x: x['population'], reverse=True)\n",
    "\n",
    "print(\"\\nTen most populated countries:\")\n",
    "for country in most_populated_countries[:10]:\n",
    "    print(f\"{country['name']}: {country['population']}\")"
   ]
  },
  {
   "cell_type": "markdown",
   "metadata": {},
   "source": [
    "### This is the end of higher-order-function exercises"
   ]
  }
 ],
 "metadata": {
  "kernelspec": {
   "display_name": "Python 3",
   "language": "python",
   "name": "python3"
  },
  "language_info": {
   "codemirror_mode": {
    "name": "ipython",
    "version": 3
   },
   "file_extension": ".py",
   "mimetype": "text/x-python",
   "name": "python",
   "nbconvert_exporter": "python",
   "pygments_lexer": "ipython3",
   "version": "3.10.12"
  }
 },
 "nbformat": 4,
 "nbformat_minor": 2
}
