{
 "cells": [
  {
   "cell_type": "markdown",
   "metadata": {},
   "source": [
    "### Exercise level 1"
   ]
  },
  {
   "cell_type": "markdown",
   "metadata": {},
   "source": [
    "<div style='text-align: justify;'> 1. Python has the module called statistics and we can use this module to do all the statistical calculations. However, to learn how to make function and reuse function let us try to develop a program, which calculates the measure of central tendency of a sample (mean, median, mode) and measure of variability (range, variance, standard deviation). In addition to those measures, find the min, max, count, percentile, and frequency distribution of the sample. You can create a class called Statistics and create all the functions that do statistical calculations as methods for the Statistics class. \n",
    "</div>"
   ]
  },
  {
   "cell_type": "code",
   "execution_count": 2,
   "metadata": {},
   "outputs": [
    {
     "name": "stdout",
     "output_type": "stream",
     "text": [
      "Count: 25\n",
      "Sum:  744\n",
      "Min:  24\n",
      "Max:  38\n",
      "Range:  14\n",
      "Mean:  29.76\n",
      "Median:  29\n",
      "Mode:  {'mode': [26], 'count': 5}\n",
      "Standard Deviation:  4.188364836066696\n",
      "Variance:  17.5424\n",
      "Frequency Distribution:  [(8.0, 31), (20.0, 26), (8.0, 34), (8.0, 37), (16.0, 27), (12.0, 32), (8.0, 24), (8.0, 33), (4.0, 25), (4.0, 38), (4.0, 29)]\n"
     ]
    }
   ],
   "source": [
    "class Statistics:\n",
    "    def __init__(self, data):\n",
    "        self.data = data\n",
    "\n",
    "    def count(self):\n",
    "        return len(self.data)\n",
    "\n",
    "    def sum(self):\n",
    "        return sum(self.data)\n",
    "\n",
    "    def min(self):\n",
    "        return min(self.data)\n",
    "\n",
    "    def max(self):\n",
    "        return max(self.data)\n",
    "\n",
    "    def range(self):\n",
    "        return self.max() - self.min()\n",
    "\n",
    "    def mean(self):\n",
    "        return self.sum() / self.count()\n",
    "\n",
    "    def median(self):\n",
    "        sorted_data = sorted(self.data)\n",
    "        n = self.count()\n",
    "        middle = n // 2\n",
    "        if n % 2 == 0:\n",
    "            return (sorted_data[middle - 1] + sorted_data[middle]) / 2\n",
    "        return sorted_data[middle]\n",
    "\n",
    "    def mode(self):\n",
    "        frequency = {}\n",
    "        for num in self.data:\n",
    "            frequency[num] = frequency.get(num, 0) + 1\n",
    "        max_count = max(frequency.values())\n",
    "        modes = [key for key, value in frequency.items() if value == max_count]\n",
    "        return {\"mode\": modes, \"count\": max_count}\n",
    "\n",
    "    def variance(self):\n",
    "        mean = self.mean()\n",
    "        return sum((x - mean) ** 2 for x in self.data) / self.count()\n",
    "\n",
    "    def std(self):\n",
    "        return self.variance() ** 0.5\n",
    "\n",
    "    def freq_dist(self):\n",
    "        frequency = {}\n",
    "        for num in self.data:\n",
    "            frequency[num] = frequency.get(num, 0) + 1\n",
    "        total = self.count()\n",
    "        return [(round((count / total) * 100, 1), key) for key, count in frequency.items()]\n",
    "\n",
    "ages = [31, 26, 34, 37, 27, 26, 32, 32, 26, 27, 27, 24, 32, 33, 27, 25, 26, 38, 37, 31, 34, 24, 33, 29, 26]\n",
    "\n",
    "data = Statistics(ages)\n",
    "\n",
    "print('Count:', data.count()) \n",
    "print('Sum: ', data.sum())  \n",
    "print('Min: ', data.min())  \n",
    "print('Max: ', data.max())  \n",
    "print('Range: ', data.range()) \n",
    "print('Mean: ', data.mean()) \n",
    "print('Median: ', data.median())  \n",
    "print('Mode: ', data.mode())  \n",
    "print('Standard Deviation: ', data.std()) \n",
    "print('Variance: ', data.variance()) \n",
    "print('Frequency Distribution: ', data.freq_dist())\n",
    "\n"
   ]
  },
  {
   "cell_type": "markdown",
   "metadata": {},
   "source": [
    "### Exercise Level 2"
   ]
  },
  {
   "cell_type": "markdown",
   "metadata": {},
   "source": [
    "<div style='text-align: justify;'> 2. Create a class called PersonAccount. It has firstname, lastname, incomes, expenses properties and it has total_income, total_expense, account_info, add_income, add_expense and account_balance methods. Incomes is a set of incomes and its description. The same goes for expenses.\n",
    "</div>"
   ]
  },
  {
   "cell_type": "code",
   "execution_count": 3,
   "metadata": {},
   "outputs": [
    {
     "name": "stdout",
     "output_type": "stream",
     "text": [
      "Account Holder: John Doe\n",
      "Total Income: 6500\n",
      "Total Expense: 2800\n",
      "Balance: 3700\n",
      "Total Income: 6500\n",
      "Total Expense: 2800\n",
      "Account Balance: 3700\n"
     ]
    }
   ],
   "source": [
    "class PersonAccount:\n",
    "    def __init__(self, firstname, lastname):\n",
    "        self.firstname = firstname\n",
    "        self.lastname = lastname\n",
    "        self.incomes = []  \n",
    "        self.expenses = [] \n",
    "\n",
    "    def total_income(self):\n",
    "        return sum(income['amount'] for income in self.incomes)\n",
    "\n",
    "    def total_expense(self):\n",
    "        return sum(expense['amount'] for expense in self.expenses)\n",
    "\n",
    "    def account_info(self):\n",
    "        return f\"Account Holder: {self.firstname} {self.lastname}\\nTotal Income: {self.total_income()}\\nTotal Expense: {self.total_expense()}\\nBalance: {self.account_balance()}\"\n",
    "\n",
    "    def add_income(self, description, amount):\n",
    "        if amount > 0:\n",
    "            self.incomes.append({'description': description, 'amount': amount})\n",
    "        else:\n",
    "            print(\"Income amount must be greater than 0.\")\n",
    "\n",
    "    def add_expense(self, description, amount):\n",
    "        if amount > 0:\n",
    "            self.expenses.append({'description': description, 'amount': amount})\n",
    "        else:\n",
    "            print(\"Expense amount must be greater than 0.\")\n",
    "\n",
    "    def account_balance(self):\n",
    "        return self.total_income() - self.total_expense()\n",
    "\n",
    "\n",
    "person = PersonAccount(\"John\", \"Doe\")\n",
    "\n",
    "person.add_income(\"Salary\", 5000)\n",
    "person.add_income(\"Freelance\", 1500)\n",
    "\n",
    "person.add_expense(\"Rent\", 2000)\n",
    "person.add_expense(\"Groceries\", 500)\n",
    "person.add_expense(\"Utilities\", 300)\n",
    "\n",
    "print(person.account_info())\n",
    "\n",
    "print(\"Total Income:\", person.total_income())\n",
    "print(\"Total Expense:\", person.total_expense())\n",
    "print(\"Account Balance:\", person.account_balance())\n"
   ]
  }
 ],
 "metadata": {
  "kernelspec": {
   "display_name": "Python 3",
   "language": "python",
   "name": "python3"
  },
  "language_info": {
   "codemirror_mode": {
    "name": "ipython",
    "version": 3
   },
   "file_extension": ".py",
   "mimetype": "text/x-python",
   "name": "python",
   "nbconvert_exporter": "python",
   "pygments_lexer": "ipython3",
   "version": "3.10.12"
  }
 },
 "nbformat": 4,
 "nbformat_minor": 2
}
