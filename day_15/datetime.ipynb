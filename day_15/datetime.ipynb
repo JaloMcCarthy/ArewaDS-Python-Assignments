{
 "cells": [
  {
   "cell_type": "markdown",
   "metadata": {},
   "source": [
    "\n",
    "1. Get the current day, month, year, hour, minute and timestamp from datetime module"
   ]
  },
  {
   "cell_type": "code",
   "execution_count": 3,
   "metadata": {},
   "outputs": [
    {
     "name": "stdout",
     "output_type": "stream",
     "text": [
      "Day: 25\n",
      "Month: 1\n",
      "Year: 2025\n",
      "Hour: 9\n",
      "Minute: 22\n",
      "Timestamp: 1737793372.213224\n"
     ]
    }
   ],
   "source": [
    "from datetime import datetime\n",
    "\n",
    "now = datetime.now()\n",
    "\n",
    "current_day = now.day\n",
    "current_month = now.month\n",
    "current_year = now.year\n",
    "current_hour = now.hour\n",
    "current_minute = now.minute\n",
    "current_timestamp = now.timestamp()\n",
    "\n",
    "print(f\"Day: {current_day}\")\n",
    "print(f\"Month: {current_month}\")\n",
    "print(f\"Year: {current_year}\")\n",
    "print(f\"Hour: {current_hour}\")\n",
    "print(f\"Minute: {current_minute}\")\n",
    "print(f\"Timestamp: {current_timestamp}\")\n"
   ]
  },
  {
   "cell_type": "markdown",
   "metadata": {},
   "source": [
    "2. Format the current date using this format: \"%m/%d/%Y, %H:%M:%S\")\n",
    "    "
   ]
  },
  {
   "cell_type": "code",
   "execution_count": 2,
   "metadata": {},
   "outputs": [
    {
     "name": "stdout",
     "output_type": "stream",
     "text": [
      "Formatted Date: 01/25/2025, 09:22:13\n"
     ]
    }
   ],
   "source": [
    "formatted_date = now.strftime(\"%m/%d/%Y, %H:%M:%S\")\n",
    "print(f\"Formatted Date: {formatted_date}\")"
   ]
  },
  {
   "cell_type": "markdown",
   "metadata": {},
   "source": [
    "3. Today is 5 December, 2019. Change this time string to time.\n",
    "    "
   ]
  },
  {
   "cell_type": "code",
   "execution_count": 4,
   "metadata": {},
   "outputs": [
    {
     "name": "stdout",
     "output_type": "stream",
     "text": [
      "Converted Time: 2019-12-05 00:00:00\n"
     ]
    }
   ],
   "source": [
    "time_string = \"5 December, 2019\"\n",
    "time_obj = datetime.strptime(time_string, \"%d %B, %Y\")\n",
    "\n",
    "print(f\"Converted Time: {time_obj}\")"
   ]
  },
  {
   "cell_type": "markdown",
   "metadata": {},
   "source": [
    "4. Calculate the time difference between now and new year.\n",
    "    "
   ]
  },
  {
   "cell_type": "code",
   "execution_count": 5,
   "metadata": {},
   "outputs": [
    {
     "name": "stdout",
     "output_type": "stream",
     "text": [
      "Time Difference to New Year: 340 days, 14:37:07.786776\n"
     ]
    }
   ],
   "source": [
    "new_year = datetime(current_year + 1, 1, 1)\n",
    "\n",
    "time_difference = new_year - now\n",
    "print(f\"Time Difference to New Year: {time_difference}\")"
   ]
  },
  {
   "cell_type": "markdown",
   "metadata": {},
   "source": [
    "5. Calculate the time difference between 1 January 1970 and now."
   ]
  },
  {
   "cell_type": "code",
   "execution_count": 6,
   "metadata": {},
   "outputs": [
    {
     "name": "stdout",
     "output_type": "stream",
     "text": [
      "Time since January 1, 1970: 20113 days, 9:22:52.213224\n"
     ]
    }
   ],
   "source": [
    "epoch = datetime(1970, 1, 1)\n",
    "\n",
    "time_since_epoch = now - epoch\n",
    "print(f\"Time since January 1, 1970: {time_since_epoch}\")"
   ]
  },
  {
   "cell_type": "markdown",
   "metadata": {},
   "source": [
    "6. Think, what can you use the datetime module for? Examples:"
   ]
  },
  {
   "cell_type": "markdown",
   "metadata": {},
   "source": [
    "+ Uses of the datetime module\n",
    "\n",
    "+ The datetime module is versatile and can be used for:\n",
    "\n",
    "    + Time Series Analysis:\n",
    "        Working with timestamps for analyzing trends in time-series data (e.g., financial data, weather data).\n",
    "\n",
    "    + Timestamp Logging:\n",
    "        Recording activity logs, such as application usage or system events.\n",
    "\n",
    "    + Scheduling Events:\n",
    "        Scheduling tasks based on specific dates and times.\n",
    "\n",
    "    + Deadline Calculation:\n",
    "        Calculating time until deadlines or expirations.\n",
    "\n",
    "    + Blog Posts and Notifications:\n",
    "        Adding timestamps to posts or sending reminders.\n",
    "\n",
    "    + Time Zone Conversion:\n",
    "        Handling different time zones for applications used globally.\n",
    "\n",
    "    + Age Calculation:\n",
    "        Calculating someone's age or the age of an item based on a birth or creation date.\n",
    "\n"
   ]
  },
  {
   "cell_type": "markdown",
   "metadata": {},
   "source": [
    "#### This is the end of datetime exercises"
   ]
  }
 ],
 "metadata": {
  "kernelspec": {
   "display_name": "Python 3",
   "language": "python",
   "name": "python3"
  },
  "language_info": {
   "codemirror_mode": {
    "name": "ipython",
    "version": 3
   },
   "file_extension": ".py",
   "mimetype": "text/x-python",
   "name": "python",
   "nbconvert_exporter": "python",
   "pygments_lexer": "ipython3",
   "version": "3.10.12"
  }
 },
 "nbformat": 4,
 "nbformat_minor": 2
}
