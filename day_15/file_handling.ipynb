{
 "cells": [
  {
   "cell_type": "markdown",
   "metadata": {},
   "source": [
    "### Exercises Level 1"
   ]
  },
  {
   "cell_type": "markdown",
   "metadata": {},
   "source": [
    "<div style='text-align: justify;'> 1. Write a function which count number of lines and number of words in a text. All the files are in the data the folder: a) Read obama_speech.txt file and count number of lines and words b) Read michelle_obama_speech.txt file and count number of lines and words c) Read donald_speech.txt file and count number of lines and words d) Read melina_trump_speech.txt file and count number of lines and words\n",
    "</div>"
   ]
  },
  {
   "cell_type": "code",
   "execution_count": 1,
   "metadata": {},
   "outputs": [
    {
     "name": "stdout",
     "output_type": "stream",
     "text": [
      "Obama Speech: The file ./data/obama_speech.txt was not found.\n",
      "Michelle Obama Speech: The file ./data/michelle_obama_speech.txt was not found.\n",
      "Donald Trump Speech: The file ./data/donald_speech.txt was not found.\n",
      "Melania Trump Speech: The file ./data/melina_trump_speech.txt was not found.\n"
     ]
    }
   ],
   "source": [
    "def count_lines_and_words(filename):\n",
    "    try:\n",
    "        with open(filename, 'r', encoding='utf-8') as file:\n",
    "            lines = file.readlines()\n",
    "            num_lines = len(lines)\n",
    "            num_words = sum(len(line.split()) for line in lines)\n",
    "            return num_lines, num_words\n",
    "    except FileNotFoundError:\n",
    "        return f\"The file {filename} was not found.\"\n",
    "\n",
    "# Example usage\n",
    "print(\"Obama Speech:\", count_lines_and_words('./data/obama_speech.txt'))\n",
    "print(\"Michelle Obama Speech:\", count_lines_and_words('./data/michelle_obama_speech.txt'))\n",
    "print(\"Donald Trump Speech:\", count_lines_and_words('./data/donald_speech.txt'))\n",
    "print(\"Melania Trump Speech:\", count_lines_and_words('./data/melina_trump_speech.txt'))\n"
   ]
  },
  {
   "cell_type": "markdown",
   "metadata": {},
   "source": [
    "2.  Read the countries_data.json data file in data directory, create a function that finds the ten most spoken languages"
   ]
  },
  {
   "cell_type": "code",
   "execution_count": 2,
   "metadata": {},
   "outputs": [
    {
     "name": "stdout",
     "output_type": "stream",
     "text": [
      "The file ./data/countries_data.json was not found.\n",
      "The file ./data/countries_data.json was not found.\n"
     ]
    }
   ],
   "source": [
    "import json\n",
    "from collections import Counter\n",
    "\n",
    "def most_spoken_languages(filename, top_n):\n",
    "    try:\n",
    "        with open(filename, 'r', encoding='utf-8') as file:\n",
    "            countries_data = json.load(file)\n",
    "            \n",
    "            # Collect all languages from countries data\n",
    "            languages = []\n",
    "            for country in countries_data:\n",
    "                languages.extend(country['languages'])\n",
    "            \n",
    "            # Count occurrences of each language\n",
    "            language_counts = Counter(languages)\n",
    "            # Get the most common languages\n",
    "            most_common_languages = language_counts.most_common(top_n)\n",
    "            return most_common_languages\n",
    "    except FileNotFoundError:\n",
    "        return f\"The file {filename} was not found.\"\n",
    "\n",
    "# Example usage\n",
    "print(most_spoken_languages('./data/countries_data.json', 10))\n",
    "print(most_spoken_languages('./data/countries_data.json', 3))\n"
   ]
  },
  {
   "cell_type": "markdown",
   "metadata": {},
   "source": [
    "3. Read the countries_data.json data file in data directory, create a function that creates a list of the ten most populated countries"
   ]
  },
  {
   "cell_type": "code",
   "execution_count": 3,
   "metadata": {},
   "outputs": [
    {
     "name": "stdout",
     "output_type": "stream",
     "text": [
      "The file ./data/countries_data.json was not found.\n",
      "The file ./data/countries_data.json was not found.\n"
     ]
    }
   ],
   "source": [
    "def most_populated_countries(filename, top_n):\n",
    "    try:\n",
    "        with open(filename, 'r', encoding='utf-8') as file:\n",
    "            countries_data = json.load(file)\n",
    "            \n",
    "            # Sort countries by population in descending order\n",
    "            sorted_countries = sorted(countries_data, key=lambda x: x['population'], reverse=True)\n",
    "            # Get the top `n` populated countries\n",
    "            most_populated = sorted_countries[:top_n]\n",
    "            return [{'country': country['name'], 'population': country['population']} for country in most_populated]\n",
    "    except FileNotFoundError:\n",
    "        return f\"The file {filename} was not found.\"\n",
    "\n",
    "# Example usage\n",
    "print(most_populated_countries('./data/countries_data.json', 10))\n",
    "print(most_populated_countries('./data/countries_data.json', 3))\n"
   ]
  },
  {
   "cell_type": "markdown",
   "metadata": {},
   "source": [
    "### Exercise level 2"
   ]
  },
  {
   "cell_type": "markdown",
   "metadata": {},
   "source": [
    "4. Extract all incoming email addresses as a list from the email_exchange_big.txt file.\n"
   ]
  },
  {
   "cell_type": "markdown",
   "metadata": {},
   "source": [
    "5.   Find the most common words in the English language. Call the name of your function find_most_common_words, it will take two parameters - a string or a file and a positive integer, indicating the number of words. Your function will return an array of tuples in descending order. Check the output"
   ]
  },
  {
   "cell_type": "markdown",
   "metadata": {},
   "source": [
    "6. Use the function, find_most_frequent_words to find: a) The ten most frequent words used in Obama's speech b) The ten most frequent words used in Michelle's speech c) The ten most frequent words used in Trump's speech d) The ten most frequent words used in Melina's speech"
   ]
  },
  {
   "cell_type": "markdown",
   "metadata": {},
   "source": [
    "7. Write a python application that checks similarity between two texts. It takes a file or a string as a parameter and it will evaluate the similarity of the two texts. For instance check the similarity between the transcripts of Michelle's and Melina's speech. You may need a couple of functions, function to clean the text(clean_text), function to remove support words(remove_support_words) and finally to check the similarity(check_text_similarity). List of stop words are in the data directory"
   ]
  },
  {
   "cell_type": "markdown",
   "metadata": {},
   "source": [
    "8. Find the 10 most repeated words in the romeo_and_juliet.txt\n",
    "    Read the hacker news csv file and find out:\n",
    "     a.Count the number of lines containing python or Python \n",
    "     b.coun number lines containing JavaScript, javascript or Javascript \n",
    "     c.Count the number lines containing Java and not JavaScript\n"
   ]
  }
 ],
 "metadata": {
  "kernelspec": {
   "display_name": "Python 3",
   "language": "python",
   "name": "python3"
  },
  "language_info": {
   "codemirror_mode": {
    "name": "ipython",
    "version": 3
   },
   "file_extension": ".py",
   "mimetype": "text/x-python",
   "name": "python",
   "nbconvert_exporter": "python",
   "pygments_lexer": "ipython3",
   "version": "3.10.12"
  }
 },
 "nbformat": 4,
 "nbformat_minor": 2
}
